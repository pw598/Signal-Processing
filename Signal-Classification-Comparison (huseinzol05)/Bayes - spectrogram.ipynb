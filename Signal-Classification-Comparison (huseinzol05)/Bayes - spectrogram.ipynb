{
 "cells": [
  {
   "cell_type": "code",
   "execution_count": 1,
   "metadata": {
    "collapsed": true
   },
   "outputs": [],
   "source": [
    "import tensorflow as tf\n",
    "import numpy as np\n",
    "import matplotlib.mlab\n",
    "import scipy.io.wavfile\n",
    "import scipy\n",
    "import os\n",
    "import time\n",
    "from sklearn import metrics\n",
    "import matplotlib.pyplot as plt\n",
    "import seaborn as sns\n",
    "from sklearn.naive_bayes import MultinomialNB\n",
    "from scipy import sparse\n",
    "sns.set()"
   ]
  },
  {
   "cell_type": "code",
   "execution_count": 2,
   "metadata": {
    "collapsed": true
   },
   "outputs": [],
   "source": [
    "def processAudio(folder, sound_dimension = [128, 128]):\n",
    "    location = folder + '/'\n",
    "    elements = os.listdir(location)\n",
    "    results,labels = [], []\n",
    "    for i in elements:\n",
    "        try:\n",
    "            fs, data = scipy.io.wavfile.read(location+i)\n",
    "            try:\n",
    "                data = np.mean(data, axis = 1)\n",
    "            except:\n",
    "                pass\n",
    "            audio = matplotlib.mlab.specgram(data)[0]\n",
    "            audio = scipy.misc.imresize(audio, sound_dimension)\n",
    "            audio = audio.astype('float64')\n",
    "            results.append(sparse.csr_matrix(audio.flatten()))\n",
    "            labels.append(folder)\n",
    "        except Exception as e:\n",
    "            print(e)\n",
    "            continue\n",
    "    return sparse.vstack(results), labels"
   ]
  },
  {
   "cell_type": "code",
   "execution_count": 3,
   "metadata": {
    "collapsed": true
   },
   "outputs": [],
   "source": [
    "folders = [i for i in os.listdir(os.getcwd())if i.find('.md') < 0 and i.find('.txt') < 0 and i.find('ipynb') < 0 and i.find('LICENSE') < 0 and i.find('_background_noise_') < 0]"
   ]
  },
  {
   "cell_type": "code",
   "execution_count": 4,
   "metadata": {},
   "outputs": [
    {
     "name": "stdout",
     "output_type": "stream",
     "text": [
      "yes\n",
      "marvin\n",
      "off\n",
      "happy\n",
      "bed\n",
      "house\n",
      "up\n",
      "six\n",
      "go\n",
      "four\n",
      "nine\n",
      "left\n",
      "no\n",
      "three\n",
      "wow\n",
      "sheila\n",
      "right\n",
      "on\n",
      "five\n",
      "seven\n",
      "zero\n",
      "stop\n",
      "one\n",
      "down\n",
      "bird\n",
      "tree\n",
      "eight\n",
      "dog\n",
      "two\n",
      "cat\n"
     ]
    }
   ],
   "source": [
    "output,label = [], []\n",
    "for i in folders:\n",
    "    print(i)\n",
    "    out = processAudio(i)\n",
    "    output.append(out[0])\n",
    "    label += out[1]"
   ]
  },
  {
   "cell_type": "code",
   "execution_count": 5,
   "metadata": {},
   "outputs": [
    {
     "name": "stdout",
     "output_type": "stream",
     "text": [
      "64721\n"
     ]
    },
    {
     "data": {
      "text/plain": [
       "(64721, 16384)"
      ]
     },
     "execution_count": 5,
     "metadata": {},
     "output_type": "execute_result"
    }
   ],
   "source": [
    "print(len(label))\n",
    "output = sparse.vstack(output)\n",
    "output.shape"
   ]
  },
  {
   "cell_type": "code",
   "execution_count": 6,
   "metadata": {},
   "outputs": [
    {
     "name": "stderr",
     "output_type": "stream",
     "text": [
      "/usr/local/lib/python3.5/dist-packages/sklearn/cross_validation.py:41: DeprecationWarning: This module was deprecated in version 0.18 in favor of the model_selection module into which all the refactored classes and functions are moved. Also note that the interface of the new CV iterators are different from that of this module. This module will be removed in 0.20.\n",
      "  \"This module will be removed in 0.20.\", DeprecationWarning)\n"
     ]
    }
   ],
   "source": [
    "from sklearn.cross_validation import train_test_split\n",
    "from sklearn.preprocessing import LabelEncoder\n",
    "labels = np.unique(label)\n",
    "target = LabelEncoder().fit_transform(label)\n",
    "train_X, test_X, train_Y, test_Y = train_test_split(output, target, test_size = 0.2)"
   ]
  },
  {
   "cell_type": "code",
   "execution_count": 7,
   "metadata": {},
   "outputs": [
    {
     "name": "stdout",
     "output_type": "stream",
     "text": [
      "accuracy validation set:  0.245886442642\n",
      "             precision    recall  f1-score   support\n",
      "\n",
      "        bed       0.23      0.31      0.27       359\n",
      "       bird       0.51      0.35      0.42       361\n",
      "        cat       0.23      0.26      0.25       351\n",
      "        dog       0.12      0.13      0.13       348\n",
      "       down       0.36      0.04      0.07       469\n",
      "      eight       0.46      0.34      0.39       464\n",
      "       five       0.12      0.13      0.13       485\n",
      "       four       0.29      0.52      0.38       444\n",
      "         go       0.17      0.11      0.13       474\n",
      "      happy       0.24      0.22      0.23       339\n",
      "      house       0.26      0.40      0.31       332\n",
      "       left       0.11      0.28      0.16       474\n",
      "     marvin       0.19      0.19      0.19       344\n",
      "       nine       0.32      0.22      0.26       450\n",
      "         no       0.20      0.09      0.13       484\n",
      "        off       0.26      0.42      0.32       468\n",
      "         on       0.38      0.10      0.16       473\n",
      "        one       0.18      0.15      0.16       481\n",
      "      right       0.37      0.05      0.09       472\n",
      "      seven       0.52      0.19      0.28       457\n",
      "     sheila       0.34      0.39      0.36       354\n",
      "        six       0.37      0.47      0.42       476\n",
      "       stop       0.30      0.27      0.28       507\n",
      "      three       0.27      0.30      0.28       481\n",
      "       tree       0.31      0.38      0.34       347\n",
      "        two       0.28      0.31      0.30       543\n",
      "         up       0.32      0.07      0.12       490\n",
      "        wow       0.11      0.20      0.14       314\n",
      "        yes       0.16      0.26      0.20       413\n",
      "       zero       0.23      0.30      0.26       491\n",
      "\n",
      "avg / total       0.28      0.25      0.24     12945\n",
      "\n"
     ]
    }
   ],
   "source": [
    "bayes_multinomial = MultinomialNB().fit(train_X, train_Y)\n",
    "predicted = bayes_multinomial.predict(test_X)\n",
    "print('accuracy validation set: ', np.mean(predicted == test_Y))\n",
    "\n",
    "# print scores\n",
    "print(metrics.classification_report(test_Y, predicted, target_names = labels))"
   ]
  }
 ],
 "metadata": {
  "kernelspec": {
   "display_name": "Python 3",
   "language": "python",
   "name": "python3"
  },
  "language_info": {
   "codemirror_mode": {
    "name": "ipython",
    "version": 3
   },
   "file_extension": ".py",
   "mimetype": "text/x-python",
   "name": "python",
   "nbconvert_exporter": "python",
   "pygments_lexer": "ipython3",
   "version": "3.5.2"
  }
 },
 "nbformat": 4,
 "nbformat_minor": 2
}
