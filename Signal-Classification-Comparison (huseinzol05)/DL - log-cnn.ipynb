{
 "cells": [
  {
   "cell_type": "code",
   "execution_count": 1,
   "metadata": {
    "collapsed": true
   },
   "outputs": [],
   "source": [
    "import tensorflow as tf\n",
    "import numpy as np\n",
    "import matplotlib.mlab\n",
    "import scipy.io.wavfile\n",
    "import scipy\n",
    "import scipy.fftpack\n",
    "import pandas as pd\n",
    "import time\n",
    "from sklearn import metrics\n",
    "import matplotlib.pyplot as plt\n",
    "import seaborn as sns\n",
    "sns.set()"
   ]
  },
  {
   "cell_type": "code",
   "execution_count": 2,
   "metadata": {},
   "outputs": [
    {
     "data": {
      "text/html": [
       "<div>\n",
       "<table border=\"1\" class=\"dataframe\">\n",
       "  <thead>\n",
       "    <tr style=\"text-align: right;\">\n",
       "      <th></th>\n",
       "      <th>slice_file_name</th>\n",
       "      <th>fsID</th>\n",
       "      <th>start</th>\n",
       "      <th>end</th>\n",
       "      <th>salience</th>\n",
       "      <th>fold</th>\n",
       "      <th>classID</th>\n",
       "      <th>class</th>\n",
       "    </tr>\n",
       "  </thead>\n",
       "  <tbody>\n",
       "    <tr>\n",
       "      <th>7190</th>\n",
       "      <td>audio/fold3/63095-4-1-27.wav</td>\n",
       "      <td>63095</td>\n",
       "      <td>93.353862</td>\n",
       "      <td>97.353862</td>\n",
       "      <td>1</td>\n",
       "      <td>3</td>\n",
       "      <td>4</td>\n",
       "      <td>drilling</td>\n",
       "    </tr>\n",
       "    <tr>\n",
       "      <th>182</th>\n",
       "      <td>audio/fold1/103074-7-3-0.wav</td>\n",
       "      <td>103074</td>\n",
       "      <td>46.632637</td>\n",
       "      <td>50.632637</td>\n",
       "      <td>1</td>\n",
       "      <td>1</td>\n",
       "      <td>7</td>\n",
       "      <td>jackhammer</td>\n",
       "    </tr>\n",
       "    <tr>\n",
       "      <th>894</th>\n",
       "      <td>audio/fold10/118278-4-0-9.wav</td>\n",
       "      <td>118278</td>\n",
       "      <td>4.500000</td>\n",
       "      <td>8.500000</td>\n",
       "      <td>2</td>\n",
       "      <td>10</td>\n",
       "      <td>4</td>\n",
       "      <td>drilling</td>\n",
       "    </tr>\n",
       "    <tr>\n",
       "      <th>7684</th>\n",
       "      <td>audio/fold4/7389-1-4-10.wav</td>\n",
       "      <td>7389</td>\n",
       "      <td>165.761242</td>\n",
       "      <td>169.761242</td>\n",
       "      <td>2</td>\n",
       "      <td>4</td>\n",
       "      <td>1</td>\n",
       "      <td>car_horn</td>\n",
       "    </tr>\n",
       "    <tr>\n",
       "      <th>4686</th>\n",
       "      <td>audio/fold9/188823-7-2-3.wav</td>\n",
       "      <td>188823</td>\n",
       "      <td>28.138791</td>\n",
       "      <td>32.138791</td>\n",
       "      <td>1</td>\n",
       "      <td>9</td>\n",
       "      <td>7</td>\n",
       "      <td>jackhammer</td>\n",
       "    </tr>\n",
       "  </tbody>\n",
       "</table>\n",
       "</div>"
      ],
      "text/plain": [
       "                    slice_file_name    fsID       start         end  salience  \\\n",
       "7190   audio/fold3/63095-4-1-27.wav   63095   93.353862   97.353862         1   \n",
       "182    audio/fold1/103074-7-3-0.wav  103074   46.632637   50.632637         1   \n",
       "894   audio/fold10/118278-4-0-9.wav  118278    4.500000    8.500000         2   \n",
       "7684    audio/fold4/7389-1-4-10.wav    7389  165.761242  169.761242         2   \n",
       "4686   audio/fold9/188823-7-2-3.wav  188823   28.138791   32.138791         1   \n",
       "\n",
       "      fold  classID       class  \n",
       "7190     3        4    drilling  \n",
       "182      1        7  jackhammer  \n",
       "894     10        4    drilling  \n",
       "7684     4        1    car_horn  \n",
       "4686     9        7  jackhammer  "
      ]
     },
     "execution_count": 2,
     "metadata": {},
     "output_type": "execute_result"
    }
   ],
   "source": [
    "dataset = pd.read_csv('/home/husein/space/UrbanSound8K/metadata/UrbanSound8K.csv')\n",
    "dataset.slice_file_name = 'audio/fold' + dataset.fold.astype(str) + '/' + dataset.slice_file_name\n",
    "dataset = dataset.iloc[np.random.permutation(len(dataset))]\n",
    "dataset.head()"
   ]
  },
  {
   "cell_type": "code",
   "execution_count": 3,
   "metadata": {},
   "outputs": [
    {
     "data": {
      "text/plain": [
       "array(['air_conditioner', 'car_horn', 'children_playing', 'dog_bark',\n",
       "       'drilling', 'engine_idling', 'gun_shot', 'jackhammer', 'siren',\n",
       "       'street_music'], dtype=object)"
      ]
     },
     "execution_count": 3,
     "metadata": {},
     "output_type": "execute_result"
    }
   ],
   "source": [
    "unique_sound = np.unique(dataset.iloc[:, -1])\n",
    "unique_sound"
   ]
  },
  {
   "cell_type": "code",
   "execution_count": 4,
   "metadata": {
    "collapsed": true
   },
   "outputs": [],
   "source": [
    "# define our global variables\n",
    "learning_rate = 0.001\n",
    "sound_dimension = [64, 512]\n",
    "batch_size = 128\n",
    "epoch = 20"
   ]
  },
  {
   "cell_type": "code",
   "execution_count": 5,
   "metadata": {
    "collapsed": true
   },
   "outputs": [],
   "source": [
    "def processAudio(audio_file):\n",
    "    rate, data = scipy.io.wavfile.read(audio_file)\n",
    "    try:\n",
    "        if data.shape[1]:\n",
    "            data = np.mean(data, axis = 1)\n",
    "    except:\n",
    "        pass\n",
    "    audio = scipy.fftpack.fft(data)\n",
    "    audio = scipy.fftpack.fftshift(audio)\n",
    "    log_amp_spectrum = np.log10(np.abs(audio))\n",
    "    audio = matplotlib.mlab.specgram(log_amp_spectrum)[0]\n",
    "    return np.expand_dims(scipy.misc.imresize(audio, sound_dimension), axis = 2)"
   ]
  },
  {
   "cell_type": "code",
   "execution_count": 6,
   "metadata": {
    "collapsed": true
   },
   "outputs": [],
   "source": [
    "class Model:\n",
    "\n",
    "    def __init__(self, size_output):\n",
    "        self.X = tf.placeholder('float', [None, sound_dimension[0], sound_dimension[1], 1])\n",
    "        self.Y = tf.placeholder('float', [None, size_output])\n",
    "\n",
    "        def conv_layer(x, conv, out_shape, name, stride = 1):\n",
    "            w = tf.Variable(tf.truncated_normal([conv, conv, int(x.shape[3]), out_shape]), name = name + '_w')\n",
    "            b = tf.Variable(tf.truncated_normal([out_shape], stddev = 0.01), name = name + '_b')\n",
    "            return tf.nn.conv2d(x, w, [1, stride, stride, 1], padding = 'SAME') + b\n",
    "        \n",
    "        def fully_connected(x, out_shape, name):\n",
    "            w = tf.Variable(tf.truncated_normal([int(x.shape[1]), out_shape]), name = name + '_fc_w')\n",
    "            b = tf.Variable(tf.truncated_normal([out_shape], stddev = 0.01), name = name + '_fc_b')\n",
    "            return tf.matmul(x, w) + b\n",
    "\n",
    "        def pooling(x, k = 2, stride = 2):\n",
    "            return tf.nn.max_pool(x, ksize = [1, k, k, 1], strides = [1, stride, stride, 1], padding = 'SAME')\n",
    "\n",
    "        with tf.name_scope(\"conv5-16\"):\n",
    "            conv1 = tf.nn.relu(conv_layer(self.X, 5, 16, '16'))\n",
    "\n",
    "        with tf.name_scope(\"maxpool-1\"):\n",
    "            pooling1 = pooling(conv1)\n",
    "\n",
    "        with tf.name_scope(\"conv5-32\"):\n",
    "            conv2 = tf.nn.relu(conv_layer(pooling1, 5, 16, '16'))\n",
    "\n",
    "        with tf.name_scope(\"maxpool-2\"):\n",
    "            pooling2 = pooling(conv2)\n",
    "\n",
    "        with tf.name_scope(\"conv5-64\"):\n",
    "            conv3 = tf.nn.relu(conv_layer(pooling2, 5, 64, '64'))\n",
    "\n",
    "        with tf.name_scope(\"maxpool-3\"):\n",
    "            pooling3 = pooling(conv3)\n",
    "\n",
    "        with tf.name_scope(\"conv5-128\"):\n",
    "            conv4 = tf.nn.relu(conv_layer(pooling3, 5, 128, '128'))\n",
    "\n",
    "        with tf.name_scope(\"maxpool-4\"):\n",
    "            pooling4 = pooling(conv4)\n",
    "        \n",
    "        output_shape = int(pooling4.shape[1]) * int(pooling4.shape[2]) * int(pooling4.shape[3])\n",
    "        \n",
    "        with tf.name_scope(\"fc-512\"):\n",
    "            pooling4 = tf.reshape(pooling4, [-1, output_shape])\n",
    "            fc1 = tf.nn.relu(fully_connected(pooling4, 512, '512'))\n",
    "\n",
    "        with tf.name_scope(\"fc-128\"):\n",
    "            fc2 = tf.nn.relu(fully_connected(fc1, 128, '128'))\n",
    "\n",
    "        with tf.name_scope(\"logits\"):\n",
    "            self.logits = fully_connected(fc2, size_output, 'logits')\n",
    "            \n",
    "        self.cost = tf.reduce_mean(tf.nn.softmax_cross_entropy_with_logits(logits = self.logits, labels = self.Y))\n",
    "        self.optimizer = tf.train.AdamOptimizer(learning_rate).minimize(self.cost)\n",
    "        correct_prediction = tf.equal(tf.argmax(self.logits, 1), tf.argmax(self.Y, 1))\n",
    "        self.accuracy = tf.reduce_mean(tf.cast(correct_prediction, \"float\"))"
   ]
  },
  {
   "cell_type": "code",
   "execution_count": 7,
   "metadata": {
    "collapsed": true
   },
   "outputs": [],
   "source": [
    "no_classes = np.unique(dataset['classID']).shape[0]\n",
    "sess = tf.InteractiveSession()\n",
    "model = Model(no_classes)\n",
    "sess.run(tf.global_variables_initializer())\n",
    "saver = tf.train.Saver(tf.global_variables())\n",
    "\n",
    "train_dataset = dataset.iloc[:int(dataset.shape[0] * 0.80), :]\n",
    "test_dataset = dataset.iloc[int(dataset.shape[0] * 0.80):, :]"
   ]
  },
  {
   "cell_type": "code",
   "execution_count": 8,
   "metadata": {},
   "outputs": [
    {
     "name": "stdout",
     "output_type": "stream",
     "text": [
      "('epoch: ', 1, 'avg loss: ', 639422785.18518519, 'avg acc: ', 0.19716438761463873, 'avg time: ', 6.869770963986714)\n",
      "('epoch: ', 2, 'avg loss: ', 139849726.37037036, 'avg acc: ', 0.29842291468823395, 'avg time: ', 6.536748705086885)\n",
      "('epoch: ', 3, 'avg loss: ', 93028092.222222224, 'avg acc: ', 0.36300998705404774, 'avg time: ', 6.537040648636995)\n",
      "('epoch: ', 4, 'avg loss: ', 90252430.222222224, 'avg acc: ', 0.37186967802268489, 'avg time: ', 6.53545003467136)\n",
      "('epoch: ', 5, 'avg loss: ', 68100667.555555552, 'avg acc: ', 0.42427944750697527, 'avg time: ', 6.530538055631849)\n",
      "('epoch: ', 6, 'avg loss: ', 69304702.148148149, 'avg acc: ', 0.40987019351235143, 'avg time: ', 6.523895497675295)\n",
      "('epoch: ', 7, 'avg loss: ', 61631381.185185187, 'avg acc: ', 0.44965207080046338, 'avg time: ', 6.522541425846241)\n",
      "('epoch: ', 8, 'avg loss: ', 50620412.888888888, 'avg acc: ', 0.46966591753341536, 'avg time: ', 6.524025978865446)\n",
      "('epoch: ', 9, 'avg loss: ', 48619866.111111112, 'avg acc: ', 0.47651383777459461, 'avg time: ', 6.524130000008477)\n",
      "('epoch: ', 10, 'avg loss: ', 54814779.59259259, 'avg acc: ', 0.46744951219470415, 'avg time: ', 6.523830237212004)\n",
      "('epoch: ', 11, 'avg loss: ', 48887989.851851851, 'avg acc: ', 0.48746292072313802, 'avg time: ', 6.523507740762499)\n",
      "('epoch: ', 12, 'avg loss: ', 41692498.296296299, 'avg acc: ', 0.52329057896578757, 'avg time: ', 6.525266501638624)\n",
      "('epoch: ', 13, 'avg loss: ', 35459837.888888888, 'avg acc: ', 0.54090726541148293, 'avg time: ', 6.523280739784241)\n",
      "('epoch: ', 14, 'avg loss: ', 39113137.481481485, 'avg acc: ', 0.52137622402773964, 'avg time: ', 6.524700610725968)\n",
      "('epoch: ', 15, 'avg loss: ', 38446545.666666664, 'avg acc: ', 0.53060401037887295, 'avg time: ', 6.52504762896785)\n",
      "('epoch: ', 16, 'avg loss: ', 28793626.222222224, 'avg acc: ', 0.5766809185345968, 'avg time: ', 6.524746038295604)\n",
      "('epoch: ', 17, 'avg loss: ', 28087188.222222224, 'avg acc: ', 0.56508543038809744, 'avg time: ', 6.5229954807846635)\n",
      "('epoch: ', 18, 'avg loss: ', 44772616.481481485, 'avg acc: ', 0.50394881489100285, 'avg time: ', 6.523589814150775)\n",
      "('epoch: ', 19, 'avg loss: ', 43613544.555555552, 'avg acc: ', 0.52171973056263399, 'avg time: ', 6.597078446988706)\n",
      "('epoch: ', 20, 'avg loss: ', 29923678.166666668, 'avg acc: ', 0.56612566996503755, 'avg time: ', 6.6915759422160965)\n"
     ]
    }
   ],
   "source": [
    "ACCURACY, LOST = [], []\n",
    "for i in range(epoch):\n",
    "    last = time.time()\n",
    "    total_acc, total_loss = 0, 0\n",
    "    for k in range(0, (train_dataset.shape[0] // batch_size) * batch_size, batch_size):\n",
    "        batch_x, batch_y = [], []\n",
    "        for n in range(batch_size):\n",
    "            try:\n",
    "                batch_x.append(processAudio(train_dataset.slice_file_name.iloc[k + n]))\n",
    "                onehot = np.zeros((no_classes))\n",
    "                onehot[train_dataset.classID.iloc[k + n]] = 1.0\n",
    "                batch_y.append(onehot)\n",
    "            except Exception as e:\n",
    "                continue\n",
    "        batch_x = np.array(batch_x)\n",
    "        batch_y = np.array(batch_y)\n",
    "        loss, _ = sess.run([model.cost, model.optimizer], feed_dict = {model.X: batch_x, model.Y: batch_y})\n",
    "        total_acc += sess.run(model.accuracy, feed_dict = {model.X: batch_x, model.Y: batch_y})\n",
    "        total_loss += loss\n",
    "    total_loss /= (train_dataset.shape[0] // batch_size)\n",
    "    total_acc /= (train_dataset.shape[0] // batch_size)\n",
    "    ACCURACY.append(total_acc)\n",
    "    LOST.append(total_loss)\n",
    "    print('epoch: ', i + 1, 'avg loss: ', total_loss, 'avg acc: ', total_acc, 'avg time: ', (time.time() - last) / (train_dataset.shape[0] // batch_size))"
   ]
  },
  {
   "cell_type": "code",
   "execution_count": 9,
   "metadata": {},
   "outputs": [
    {
     "name": "stdout",
     "output_type": "stream",
     "text": [
      "testing accuracy: 0.467391\n",
      "                  precision    recall  f1-score   support\n",
      "\n",
      " air_conditioner       0.40      0.29      0.33         7\n",
      "        car_horn       0.00      0.00      0.00         7\n",
      "children_playing       0.43      0.30      0.35        10\n",
      "        dog_bark       1.00      0.29      0.44         7\n",
      "        drilling       0.33      1.00      0.50        13\n",
      "   engine_idling       1.00      0.44      0.62         9\n",
      "        gun_shot       0.67      0.50      0.57         4\n",
      "      jackhammer       1.00      0.50      0.67        14\n",
      "           siren       0.62      0.80      0.70        10\n",
      "    street_music       0.17      0.18      0.17        11\n",
      "\n",
      "     avg / total       0.57      0.47      0.45        92\n",
      "\n"
     ]
    },
    {
     "name": "stderr",
     "output_type": "stream",
     "text": [
      "/usr/local/lib/python2.7/dist-packages/sklearn/metrics/classification.py:1113: UndefinedMetricWarning: Precision and F-score are ill-defined and being set to 0.0 in labels with no predicted samples.\n",
      "  'precision', 'predicted', average, warn_for)\n"
     ]
    }
   ],
   "source": [
    "batch_x, batch_y, labels = [], [], []\n",
    "for n in range(128):\n",
    "    try:\n",
    "        batch_x.append(processAudio(test_dataset.slice_file_name.iloc[n]))\n",
    "        onehot = np.zeros((no_classes))\n",
    "        onehot[test_dataset.classID.iloc[n]] = 1.0\n",
    "        batch_y.append(onehot)\n",
    "        labels.append(test_dataset.classID.iloc[n])\n",
    "    except Exception as e:\n",
    "        continue\n",
    "batch_x = np.array(batch_x)\n",
    "batch_y = np.array(batch_y)\n",
    "acc, logits = sess.run([model.accuracy, tf.cast(tf.argmax(model.logits, 1), tf.int32)], feed_dict = {model.X : batch_x, model.Y : batch_y})\n",
    "print 'testing accuracy: ' + str(acc)\n",
    "print(metrics.classification_report(labels, logits, target_names = np.unique(unique_sound)))"
   ]
  },
  {
   "cell_type": "code",
   "execution_count": 10,
   "metadata": {},
   "outputs": [
    {
     "data": {
      "image/png": "[encoded data removed]",
      "text/plain": [
       "<matplotlib.figure.Figure at 0x7f1f72596910>"
      ]
     },
     "metadata": {},
     "output_type": "display_data"
    }
   ],
   "source": [
    "EPOCH = np.arange(len(LOST))\n",
    "plt.subplot(1, 2, 1)\n",
    "plt.plot(EPOCH, LOST)\n",
    "plt.xlabel('epoch'); plt.ylabel('loss')\n",
    "plt.subplot(1, 2, 2)\n",
    "plt.plot(EPOCH, ACCURACY)\n",
    "plt.xlabel('epoch'); plt.ylabel('accuracy')\n",
    "plt.show()"
   ]
  }
 ],
 "metadata": {
  "kernelspec": {
   "display_name": "Python 2",
   "language": "python",
   "name": "python2"
  },
  "language_info": {
   "codemirror_mode": {
    "name": "ipython",
    "version": 2
   },
   "file_extension": ".py",
   "mimetype": "text/x-python",
   "name": "python",
   "nbconvert_exporter": "python",
   "pygments_lexer": "ipython2",
   "version": "2.7.12"
  }
 },
 "nbformat": 4,
 "nbformat_minor": 2
}
