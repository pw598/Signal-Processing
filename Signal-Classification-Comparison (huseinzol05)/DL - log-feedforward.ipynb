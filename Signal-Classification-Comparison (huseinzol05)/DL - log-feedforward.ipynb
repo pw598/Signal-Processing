{
 "cells": [
  {
   "cell_type": "code",
   "execution_count": 1,
   "metadata": {
    "collapsed": true
   },
   "outputs": [],
   "source": [
    "import tensorflow as tf\n",
    "import numpy as np\n",
    "import matplotlib.mlab\n",
    "import scipy.io.wavfile\n",
    "import scipy\n",
    "import scipy.fftpack\n",
    "import pandas as pd\n",
    "import time\n",
    "from sklearn import metrics\n",
    "import matplotlib.pyplot as plt\n",
    "import seaborn as sns\n",
    "sns.set()"
   ]
  },
  {
   "cell_type": "code",
   "execution_count": 2,
   "metadata": {},
   "outputs": [
    {
     "data": {
      "text/html": [
       "<div>\n",
       "<table border=\"1\" class=\"dataframe\">\n",
       "  <thead>\n",
       "    <tr style=\"text-align: right;\">\n",
       "      <th></th>\n",
       "      <th>slice_file_name</th>\n",
       "      <th>fsID</th>\n",
       "      <th>start</th>\n",
       "      <th>end</th>\n",
       "      <th>salience</th>\n",
       "      <th>fold</th>\n",
       "      <th>classID</th>\n",
       "      <th>class</th>\n",
       "    </tr>\n",
       "  </thead>\n",
       "  <tbody>\n",
       "    <tr>\n",
       "      <th>3996</th>\n",
       "      <td>audio/fold5/178260-7-1-5.wav</td>\n",
       "      <td>178260</td>\n",
       "      <td>7.837693</td>\n",
       "      <td>11.837693</td>\n",
       "      <td>1</td>\n",
       "      <td>5</td>\n",
       "      <td>7</td>\n",
       "      <td>jackhammer</td>\n",
       "    </tr>\n",
       "    <tr>\n",
       "      <th>5428</th>\n",
       "      <td>audio/fold5/204408-2-0-8.wav</td>\n",
       "      <td>204408</td>\n",
       "      <td>4.000000</td>\n",
       "      <td>8.000000</td>\n",
       "      <td>2</td>\n",
       "      <td>5</td>\n",
       "      <td>2</td>\n",
       "      <td>children_playing</td>\n",
       "    </tr>\n",
       "    <tr>\n",
       "      <th>1994</th>\n",
       "      <td>audio/fold2/147926-0-0-36.wav</td>\n",
       "      <td>147926</td>\n",
       "      <td>18.000000</td>\n",
       "      <td>22.000000</td>\n",
       "      <td>1</td>\n",
       "      <td>2</td>\n",
       "      <td>0</td>\n",
       "      <td>air_conditioner</td>\n",
       "    </tr>\n",
       "    <tr>\n",
       "      <th>4349</th>\n",
       "      <td>audio/fold1/180937-7-3-1.wav</td>\n",
       "      <td>180937</td>\n",
       "      <td>305.084561</td>\n",
       "      <td>309.084561</td>\n",
       "      <td>2</td>\n",
       "      <td>1</td>\n",
       "      <td>7</td>\n",
       "      <td>jackhammer</td>\n",
       "    </tr>\n",
       "    <tr>\n",
       "      <th>8559</th>\n",
       "      <td>audio/fold8/96159-4-0-0.wav</td>\n",
       "      <td>96159</td>\n",
       "      <td>0.751209</td>\n",
       "      <td>4.033599</td>\n",
       "      <td>1</td>\n",
       "      <td>8</td>\n",
       "      <td>4</td>\n",
       "      <td>drilling</td>\n",
       "    </tr>\n",
       "  </tbody>\n",
       "</table>\n",
       "</div>"
      ],
      "text/plain": [
       "                    slice_file_name    fsID       start         end  salience  \\\n",
       "3996   audio/fold5/178260-7-1-5.wav  178260    7.837693   11.837693         1   \n",
       "5428   audio/fold5/204408-2-0-8.wav  204408    4.000000    8.000000         2   \n",
       "1994  audio/fold2/147926-0-0-36.wav  147926   18.000000   22.000000         1   \n",
       "4349   audio/fold1/180937-7-3-1.wav  180937  305.084561  309.084561         2   \n",
       "8559    audio/fold8/96159-4-0-0.wav   96159    0.751209    4.033599         1   \n",
       "\n",
       "      fold  classID             class  \n",
       "3996     5        7        jackhammer  \n",
       "5428     5        2  children_playing  \n",
       "1994     2        0   air_conditioner  \n",
       "4349     1        7        jackhammer  \n",
       "8559     8        4          drilling  "
      ]
     },
     "execution_count": 2,
     "metadata": {},
     "output_type": "execute_result"
    }
   ],
   "source": [
    "dataset = pd.read_csv('/home/husein/space/UrbanSound8K/metadata/UrbanSound8K.csv')\n",
    "dataset.slice_file_name = 'audio/fold' + dataset.fold.astype(str) + '/' + dataset.slice_file_name\n",
    "dataset = dataset.iloc[np.random.permutation(len(dataset))]\n",
    "dataset.head()"
   ]
  },
  {
   "cell_type": "code",
   "execution_count": 3,
   "metadata": {},
   "outputs": [
    {
     "data": {
      "text/plain": [
       "array(['air_conditioner', 'car_horn', 'children_playing', 'dog_bark',\n",
       "       'drilling', 'engine_idling', 'gun_shot', 'jackhammer', 'siren',\n",
       "       'street_music'], dtype=object)"
      ]
     },
     "execution_count": 3,
     "metadata": {},
     "output_type": "execute_result"
    }
   ],
   "source": [
    "unique_sound = np.unique(dataset.iloc[:, -1])\n",
    "unique_sound"
   ]
  },
  {
   "cell_type": "code",
   "execution_count": 4,
   "metadata": {
    "collapsed": true
   },
   "outputs": [],
   "source": [
    "# define our global variables\n",
    "learning_rate = 0.001\n",
    "sound_dimension = [64, 512]\n",
    "batch_size = 128\n",
    "epoch = 20"
   ]
  },
  {
   "cell_type": "code",
   "execution_count": 5,
   "metadata": {
    "collapsed": true
   },
   "outputs": [],
   "source": [
    "def processAudio(audio_file):\n",
    "    rate, data = scipy.io.wavfile.read(audio_file)\n",
    "    try:\n",
    "        if data.shape[1]:\n",
    "            data = np.mean(data, axis = 1)\n",
    "    except:\n",
    "        pass\n",
    "    audio = scipy.fftpack.fft(data)\n",
    "    audio = scipy.fftpack.fftshift(audio)\n",
    "    log_amp_spectrum = np.log10(np.abs(audio))\n",
    "    audio = matplotlib.mlab.specgram(log_amp_spectrum)[0]\n",
    "    return scipy.misc.imresize(audio, sound_dimension).flatten()"
   ]
  },
  {
   "cell_type": "code",
   "execution_count": 6,
   "metadata": {
    "collapsed": true
   },
   "outputs": [],
   "source": [
    "class Model:\n",
    "    def __init__(self, size_output):\n",
    "        self.X = tf.placeholder(tf.float32, (None, sound_dimension[0] * sound_dimension[1]))\n",
    "        self.Y = tf.placeholder(tf.float32, (None, size_output))\n",
    "        \n",
    "        w1 = tf.Variable(tf.random_normal([sound_dimension[0] * sound_dimension[1], 784], stddev = np.sqrt(1/784.0)))\n",
    "        b1 = tf.Variable(tf.random_normal([784], stddev = 0))\n",
    "        \n",
    "        w2 = tf.Variable(tf.random_normal([784, 256], stddev = np.sqrt(1/256.0)))\n",
    "        b2 = tf.Variable(tf.random_normal([256], stddev = 0))\n",
    "        \n",
    "        w3 = tf.Variable(tf.random_normal([256, 100], stddev = np.sqrt(1/100.0)))\n",
    "        b3 = tf.Variable(tf.random_normal([100], stddev = 0))\n",
    "        \n",
    "        w4 = tf.Variable(tf.random_normal([100, size_output], stddev = np.sqrt(1/(size_output * 1.0))))\n",
    "        b4 = tf.Variable(tf.random_normal([size_output], stddev = 0))\n",
    "        \n",
    "        hidden1 = tf.nn.relu(tf.matmul(self.X, w1) + b1)\n",
    "        hidden2 = tf.nn.relu(tf.matmul(hidden1, w2) + b2)\n",
    "        hidden3 = tf.nn.relu(tf.matmul(hidden2, w3) + b3)\n",
    "        self.logits = tf.matmul(hidden3, w4) + b4\n",
    "        self.cost = tf.reduce_mean(tf.nn.softmax_cross_entropy_with_logits(logits = self.logits, labels = self.Y))\n",
    "        self.optimizer = tf.train.AdamOptimizer(learning_rate).minimize(self.cost)\n",
    "        correct_prediction = tf.equal(tf.argmax(self.logits, 1), tf.argmax(self.Y, 1))\n",
    "        self.accuracy = tf.reduce_mean(tf.cast(correct_prediction, \"float\"))"
   ]
  },
  {
   "cell_type": "code",
   "execution_count": 7,
   "metadata": {
    "collapsed": true
   },
   "outputs": [],
   "source": [
    "no_classes = np.unique(dataset['classID']).shape[0]\n",
    "sess = tf.InteractiveSession()\n",
    "model = Model(no_classes)\n",
    "sess.run(tf.global_variables_initializer())\n",
    "saver = tf.train.Saver(tf.global_variables())\n",
    "\n",
    "train_dataset = dataset.iloc[:int(dataset.shape[0] * 0.80), :]\n",
    "test_dataset = dataset.iloc[int(dataset.shape[0] * 0.80):, :]"
   ]
  },
  {
   "cell_type": "code",
   "execution_count": 8,
   "metadata": {},
   "outputs": [
    {
     "name": "stdout",
     "output_type": "stream",
     "text": [
      "('epoch: ', 1, 'avg loss: ', 129.18411664609556, 'avg acc: ', 0.12572850373194175, 'avg time: ', 6.581447632224472)\n",
      "('epoch: ', 2, 'avg loss: ', 18.756489789044416, 'avg acc: ', 0.1803454140684119, 'avg time: ', 6.577268649030615)\n",
      "('epoch: ', 3, 'avg loss: ', 21.322976765809237, 'avg acc: ', 0.17385233041864853, 'avg time: ', 6.5761182617258145)\n",
      "('epoch: ', 4, 'avg loss: ', 8.6499834413881658, 'avg acc: ', 0.25918739178666361, 'avg time: ', 6.686059183544582)\n",
      "('epoch: ', 5, 'avg loss: ', 6.028217858738369, 'avg acc: ', 0.27261674624902232, 'avg time: ', 6.57213188983776)\n",
      "('epoch: ', 6, 'avg loss: ', 8.1752345032162133, 'avg acc: ', 0.24616177104137563, 'avg time: ', 6.566393463699906)\n",
      "('epoch: ', 7, 'avg loss: ', 9.3683239265724456, 'avg acc: ', 0.23329312437110478, 'avg time: ', 6.564795370455141)\n",
      "('epoch: ', 8, 'avg loss: ', 6.5071152448654175, 'avg acc: ', 0.25272509552262445, 'avg time: ', 6.566695129429853)\n",
      "('epoch: ', 9, 'avg loss: ', 3.1484040684170194, 'avg acc: ', 0.30921384057512991, 'avg time: ', 6.565534781526636)\n",
      "('epoch: ', 10, 'avg loss: ', 2.4340133468310037, 'avg acc: ', 0.34953033454992155, 'avg time: ', 6.5667054653167725)\n",
      "('epoch: ', 11, 'avg loss: ', 2.9138094628298723, 'avg acc: ', 0.32172817543700888, 'avg time: ', 6.5636289826145875)\n",
      "('epoch: ', 12, 'avg loss: ', 2.6027982014196889, 'avg acc: ', 0.35111802871580478, 'avg time: ', 6.5658258552904485)\n",
      "('epoch: ', 13, 'avg loss: ', 2.3202547695901661, 'avg acc: ', 0.37417834334903294, 'avg time: ', 6.565665002222414)\n",
      "('epoch: ', 14, 'avg loss: ', 2.5755346903094538, 'avg acc: ', 0.36729520669689886, 'avg time: ', 6.563915570576985)\n",
      "('epoch: ', 15, 'avg loss: ', 2.6138988909897982, 'avg acc: ', 0.36604668558747683, 'avg time: ', 6.565143942832947)\n",
      "('epoch: ', 16, 'avg loss: ', 2.575332447334572, 'avg acc: ', 0.37065604218730219, 'avg time: ', 6.565003077189128)\n",
      "('epoch: ', 17, 'avg loss: ', 2.1929498513539634, 'avg acc: ', 0.38937211202250588, 'avg time: ', 6.563003279544689)\n",
      "('epoch: ', 18, 'avg loss: ', 2.1632381986688682, 'avg acc: ', 0.41091530245763286, 'avg time: ', 6.56429065156866)\n",
      "('epoch: ', 19, 'avg loss: ', 1.8913745924278542, 'avg acc: ', 0.44014626299893417, 'avg time: ', 6.563450186340897)\n",
      "('epoch: ', 20, 'avg loss: ', 2.2228330638673572, 'avg acc: ', 0.4011315604050954, 'avg time: ', 6.5647480531975075)\n"
     ]
    }
   ],
   "source": [
    "ACCURACY, LOST = [], []\n",
    "for i in range(epoch):\n",
    "    last = time.time()\n",
    "    total_acc, total_loss = 0, 0\n",
    "    for k in range(0, (train_dataset.shape[0] // batch_size) * batch_size, batch_size):\n",
    "        batch_x, batch_y = [], []\n",
    "        for n in range(batch_size):\n",
    "            try:\n",
    "                batch_x.append(processAudio(train_dataset.slice_file_name.iloc[k + n]))\n",
    "                onehot = np.zeros((no_classes))\n",
    "                onehot[train_dataset.classID.iloc[k + n]] = 1.0\n",
    "                batch_y.append(onehot)\n",
    "            except Exception as e:\n",
    "                continue\n",
    "        batch_x = np.array(batch_x)\n",
    "        batch_y = np.array(batch_y)\n",
    "        loss, _ = sess.run([model.cost, model.optimizer], feed_dict = {model.X: batch_x, model.Y: batch_y})\n",
    "        total_acc += sess.run(model.accuracy, feed_dict = {model.X: batch_x, model.Y: batch_y})\n",
    "        total_loss += loss\n",
    "    total_loss /= (train_dataset.shape[0] // batch_size)\n",
    "    total_acc /= (train_dataset.shape[0] // batch_size)\n",
    "    ACCURACY.append(total_acc)\n",
    "    LOST.append(total_loss)\n",
    "    print('epoch: ', i + 1, 'avg loss: ', total_loss, 'avg acc: ', total_acc, 'avg time: ', (time.time() - last) / (train_dataset.shape[0] // batch_size))"
   ]
  },
  {
   "cell_type": "code",
   "execution_count": 9,
   "metadata": {},
   "outputs": [
    {
     "name": "stdout",
     "output_type": "stream",
     "text": [
      "testing accuracy: 0.293972\n",
      "                  precision    recall  f1-score   support\n",
      "\n",
      " air_conditioner       0.31      0.04      0.07       128\n",
      "        car_horn       0.00      0.00      0.00        58\n",
      "children_playing       0.24      0.47      0.32       131\n",
      "        dog_bark       1.00      0.03      0.06       152\n",
      "        drilling       0.72      0.25      0.37       170\n",
      "   engine_idling       1.00      0.06      0.11       121\n",
      "        gun_shot       0.00      0.00      0.00        49\n",
      "      jackhammer       0.20      0.99      0.33       139\n",
      "           siren       0.54      0.67      0.60       142\n",
      "    street_music       1.00      0.02      0.03       121\n",
      "\n",
      "     avg / total       0.57      0.29      0.22      1211\n",
      "\n"
     ]
    },
    {
     "name": "stderr",
     "output_type": "stream",
     "text": [
      "/usr/local/lib/python2.7/dist-packages/sklearn/metrics/classification.py:1113: UndefinedMetricWarning: Precision and F-score are ill-defined and being set to 0.0 in labels with no predicted samples.\n",
      "  'precision', 'predicted', average, warn_for)\n"
     ]
    }
   ],
   "source": [
    "batch_x, batch_y, labels = [], [], []\n",
    "for n in range(test_dataset.shape[0]):\n",
    "    try:\n",
    "        batch_x.append(processAudio(test_dataset.slice_file_name.iloc[n]))\n",
    "        onehot = np.zeros((no_classes))\n",
    "        onehot[test_dataset.classID.iloc[n]] = 1.0\n",
    "        batch_y.append(onehot)\n",
    "        labels.append(test_dataset.classID.iloc[n])\n",
    "    except Exception as e:\n",
    "        continue\n",
    "batch_x = np.array(batch_x)\n",
    "batch_y = np.array(batch_y)\n",
    "acc, logits = sess.run([model.accuracy, tf.cast(tf.argmax(model.logits, 1), tf.int32)], feed_dict = {model.X : batch_x, model.Y : batch_y})\n",
    "print 'testing accuracy: ' + str(acc)\n",
    "print(metrics.classification_report(labels, logits, target_names = np.unique(unique_sound)))"
   ]
  },
  {
   "cell_type": "code",
   "execution_count": 10,
   "metadata": {},
   "outputs": [
    {
     "data": {
      "image/png": "[encoded data removed]",
      "text/plain": [
       "<matplotlib.figure.Figure at 0x7f9d82ad9790>"
      ]
     },
     "metadata": {},
     "output_type": "display_data"
    }
   ],
   "source": [
    "EPOCH = np.arange(len(LOST))\n",
    "plt.subplot(1, 2, 1)\n",
    "plt.plot(EPOCH, LOST)\n",
    "plt.xlabel('epoch'); plt.ylabel('loss')\n",
    "plt.subplot(1, 2, 2)\n",
    "plt.plot(EPOCH, ACCURACY)\n",
    "plt.xlabel('epoch'); plt.ylabel('accuracy')\n",
    "plt.show()"
   ]
  }
 ],
 "metadata": {
  "kernelspec": {
   "display_name": "Python 2",
   "language": "python",
   "name": "python2"
  },
  "language_info": {
   "codemirror_mode": {
    "name": "ipython",
    "version": 2
   },
   "file_extension": ".py",
   "mimetype": "text/x-python",
   "name": "python",
   "nbconvert_exporter": "python",
   "pygments_lexer": "ipython2",
   "version": "2.7.12"
  }
 },
 "nbformat": 4,
 "nbformat_minor": 2
}
