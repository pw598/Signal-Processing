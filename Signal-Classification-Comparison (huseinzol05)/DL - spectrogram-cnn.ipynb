{
 "cells": [
  {
   "cell_type": "code",
   "execution_count": 1,
   "metadata": {
    "collapsed": true
   },
   "outputs": [],
   "source": [
    "import tensorflow as tf\n",
    "import numpy as np\n",
    "import matplotlib.mlab\n",
    "import scipy.io.wavfile\n",
    "import scipy\n",
    "import pandas as pd\n",
    "import time\n",
    "from sklearn import metrics\n",
    "import matplotlib.pyplot as plt\n",
    "import seaborn as sns\n",
    "sns.set()"
   ]
  },
  {
   "cell_type": "code",
   "execution_count": 2,
   "metadata": {},
   "outputs": [
    {
     "data": {
      "text/html": [
       "<div>\n",
       "<table border=\"1\" class=\"dataframe\">\n",
       "  <thead>\n",
       "    <tr style=\"text-align: right;\">\n",
       "      <th></th>\n",
       "      <th>slice_file_name</th>\n",
       "      <th>fsID</th>\n",
       "      <th>start</th>\n",
       "      <th>end</th>\n",
       "      <th>salience</th>\n",
       "      <th>fold</th>\n",
       "      <th>classID</th>\n",
       "      <th>class</th>\n",
       "    </tr>\n",
       "  </thead>\n",
       "  <tbody>\n",
       "    <tr>\n",
       "      <th>1153</th>\n",
       "      <td>audio/fold7/127443-4-0-0.wav</td>\n",
       "      <td>127443</td>\n",
       "      <td>115.015008</td>\n",
       "      <td>119.015008</td>\n",
       "      <td>1</td>\n",
       "      <td>7</td>\n",
       "      <td>4</td>\n",
       "      <td>drilling</td>\n",
       "    </tr>\n",
       "    <tr>\n",
       "      <th>4610</th>\n",
       "      <td>audio/fold9/187075-5-0-6.wav</td>\n",
       "      <td>187075</td>\n",
       "      <td>6.446779</td>\n",
       "      <td>10.446779</td>\n",
       "      <td>2</td>\n",
       "      <td>9</td>\n",
       "      <td>5</td>\n",
       "      <td>engine_idling</td>\n",
       "    </tr>\n",
       "    <tr>\n",
       "      <th>4873</th>\n",
       "      <td>audio/fold4/192382-2-0-18.wav</td>\n",
       "      <td>192382</td>\n",
       "      <td>9.000000</td>\n",
       "      <td>13.000000</td>\n",
       "      <td>1</td>\n",
       "      <td>4</td>\n",
       "      <td>2</td>\n",
       "      <td>children_playing</td>\n",
       "    </tr>\n",
       "    <tr>\n",
       "      <th>1118</th>\n",
       "      <td>audio/fold8/125678-7-3-1.wav</td>\n",
       "      <td>125678</td>\n",
       "      <td>72.677418</td>\n",
       "      <td>76.677418</td>\n",
       "      <td>1</td>\n",
       "      <td>8</td>\n",
       "      <td>7</td>\n",
       "      <td>jackhammer</td>\n",
       "    </tr>\n",
       "    <tr>\n",
       "      <th>6860</th>\n",
       "      <td>audio/fold1/57320-0-0-22.wav</td>\n",
       "      <td>57320</td>\n",
       "      <td>11.000000</td>\n",
       "      <td>15.000000</td>\n",
       "      <td>2</td>\n",
       "      <td>1</td>\n",
       "      <td>0</td>\n",
       "      <td>air_conditioner</td>\n",
       "    </tr>\n",
       "  </tbody>\n",
       "</table>\n",
       "</div>"
      ],
      "text/plain": [
       "                    slice_file_name    fsID       start         end  salience  \\\n",
       "1153   audio/fold7/127443-4-0-0.wav  127443  115.015008  119.015008         1   \n",
       "4610   audio/fold9/187075-5-0-6.wav  187075    6.446779   10.446779         2   \n",
       "4873  audio/fold4/192382-2-0-18.wav  192382    9.000000   13.000000         1   \n",
       "1118   audio/fold8/125678-7-3-1.wav  125678   72.677418   76.677418         1   \n",
       "6860   audio/fold1/57320-0-0-22.wav   57320   11.000000   15.000000         2   \n",
       "\n",
       "      fold  classID             class  \n",
       "1153     7        4          drilling  \n",
       "4610     9        5     engine_idling  \n",
       "4873     4        2  children_playing  \n",
       "1118     8        7        jackhammer  \n",
       "6860     1        0   air_conditioner  "
      ]
     },
     "execution_count": 2,
     "metadata": {},
     "output_type": "execute_result"
    }
   ],
   "source": [
    "dataset = pd.read_csv('/home/husein/space/UrbanSound8K/metadata/UrbanSound8K.csv')\n",
    "dataset.slice_file_name = 'audio/fold' + dataset.fold.astype(str) + '/' + dataset.slice_file_name\n",
    "dataset = dataset.iloc[np.random.permutation(len(dataset))]\n",
    "dataset.head()"
   ]
  },
  {
   "cell_type": "code",
   "execution_count": 3,
   "metadata": {},
   "outputs": [
    {
     "data": {
      "text/plain": [
       "array(['air_conditioner', 'car_horn', 'children_playing', 'dog_bark',\n",
       "       'drilling', 'engine_idling', 'gun_shot', 'jackhammer', 'siren',\n",
       "       'street_music'], dtype=object)"
      ]
     },
     "execution_count": 3,
     "metadata": {},
     "output_type": "execute_result"
    }
   ],
   "source": [
    "unique_sound = np.unique(dataset.iloc[:, -1])\n",
    "unique_sound"
   ]
  },
  {
   "cell_type": "code",
   "execution_count": 4,
   "metadata": {
    "collapsed": true
   },
   "outputs": [],
   "source": [
    "# define our global variables\n",
    "learning_rate = 0.001\n",
    "sound_dimension = [64, 512]\n",
    "batch_size = 128\n",
    "epoch = 20"
   ]
  },
  {
   "cell_type": "code",
   "execution_count": 5,
   "metadata": {
    "collapsed": true
   },
   "outputs": [],
   "source": [
    "def processAudio(audio_file):\n",
    "    rate, data = scipy.io.wavfile.read(audio_file)\n",
    "    try:\n",
    "        if data.shape[1]:\n",
    "            data = np.mean(data, axis = 1)\n",
    "    except:\n",
    "        pass\n",
    "    audio = matplotlib.mlab.specgram(data)[0]\n",
    "    audio = scipy.misc.imresize(audio, sound_dimension)\n",
    "    return np.expand_dims(audio, axis = 2)"
   ]
  },
  {
   "cell_type": "code",
   "execution_count": 6,
   "metadata": {
    "collapsed": true
   },
   "outputs": [],
   "source": [
    "class Model:\n",
    "\n",
    "    def __init__(self, size_output):\n",
    "        self.X = tf.placeholder('float', [None, sound_dimension[0], sound_dimension[1], 1])\n",
    "        self.Y = tf.placeholder('float', [None, size_output])\n",
    "\n",
    "        def conv_layer(x, conv, out_shape, name, stride = 1):\n",
    "            w = tf.Variable(tf.truncated_normal([conv, conv, int(x.shape[3]), out_shape]), name = name + '_w')\n",
    "            b = tf.Variable(tf.truncated_normal([out_shape], stddev = 0.01), name = name + '_b')\n",
    "            return tf.nn.conv2d(x, w, [1, stride, stride, 1], padding = 'SAME') + b\n",
    "        \n",
    "        def fully_connected(x, out_shape, name):\n",
    "            w = tf.Variable(tf.truncated_normal([int(x.shape[1]), out_shape]), name = name + '_fc_w')\n",
    "            b = tf.Variable(tf.truncated_normal([out_shape], stddev = 0.01), name = name + '_fc_b')\n",
    "            return tf.matmul(x, w) + b\n",
    "\n",
    "        def pooling(x, k = 2, stride = 2):\n",
    "            return tf.nn.max_pool(x, ksize = [1, k, k, 1], strides = [1, stride, stride, 1], padding = 'SAME')\n",
    "\n",
    "        with tf.name_scope(\"conv5-16\"):\n",
    "            conv1 = tf.nn.relu(conv_layer(self.X, 5, 16, '16'))\n",
    "\n",
    "        with tf.name_scope(\"maxpool-1\"):\n",
    "            pooling1 = pooling(conv1)\n",
    "\n",
    "        with tf.name_scope(\"conv5-32\"):\n",
    "            conv2 = tf.nn.relu(conv_layer(pooling1, 5, 16, '16'))\n",
    "\n",
    "        with tf.name_scope(\"maxpool-2\"):\n",
    "            pooling2 = pooling(conv2)\n",
    "\n",
    "        with tf.name_scope(\"conv5-64\"):\n",
    "            conv3 = tf.nn.relu(conv_layer(pooling2, 5, 64, '64'))\n",
    "\n",
    "        with tf.name_scope(\"maxpool-3\"):\n",
    "            pooling3 = pooling(conv3)\n",
    "\n",
    "        with tf.name_scope(\"conv5-128\"):\n",
    "            conv4 = tf.nn.relu(conv_layer(pooling3, 5, 128, '128'))\n",
    "\n",
    "        with tf.name_scope(\"maxpool-4\"):\n",
    "            pooling4 = pooling(conv4)\n",
    "        \n",
    "        output_shape = int(pooling4.shape[1]) * int(pooling4.shape[2]) * int(pooling4.shape[3])\n",
    "        \n",
    "        with tf.name_scope(\"fc-512\"):\n",
    "            pooling4 = tf.reshape(pooling4, [-1, output_shape])\n",
    "            fc1 = tf.nn.relu(fully_connected(pooling4, 512, '512'))\n",
    "\n",
    "        with tf.name_scope(\"fc-128\"):\n",
    "            fc2 = tf.nn.relu(fully_connected(fc1, 128, '128'))\n",
    "\n",
    "        with tf.name_scope(\"logits\"):\n",
    "            self.logits = fully_connected(fc2, size_output, 'logits')\n",
    "            \n",
    "        self.cost = tf.reduce_mean(tf.nn.softmax_cross_entropy_with_logits(logits = self.logits, labels = self.Y))\n",
    "        self.optimizer = tf.train.AdamOptimizer(learning_rate).minimize(self.cost)\n",
    "        correct_prediction = tf.equal(tf.argmax(self.logits, 1), tf.argmax(self.Y, 1))\n",
    "        self.accuracy = tf.reduce_mean(tf.cast(correct_prediction, \"float\"))"
   ]
  },
  {
   "cell_type": "code",
   "execution_count": 7,
   "metadata": {
    "collapsed": true
   },
   "outputs": [],
   "source": [
    "no_classes = np.unique(dataset['classID']).shape[0]\n",
    "sess = tf.InteractiveSession()\n",
    "model = Model(no_classes)\n",
    "sess.run(tf.global_variables_initializer())\n",
    "saver = tf.train.Saver(tf.global_variables())\n",
    "\n",
    "train_dataset = dataset.iloc[:int(dataset.shape[0] * 0.80), :]\n",
    "test_dataset = dataset.iloc[int(dataset.shape[0] * 0.80):, :]"
   ]
  },
  {
   "cell_type": "code",
   "execution_count": 8,
   "metadata": {},
   "outputs": [
    {
     "name": "stdout",
     "output_type": "stream",
     "text": [
      "('epoch: ', 1, 'avg loss: ', 355989466.07407409, 'avg acc: ', 0.26660441289897319, 'avg time: ', 1.7140804617493242)\n",
      "('epoch: ', 2, 'avg loss: ', 108546171.55555555, 'avg acc: ', 0.38289101642590984, 'avg time: ', 1.4117632044686212)\n",
      "('epoch: ', 3, 'avg loss: ', 66213184.296296299, 'avg acc: ', 0.44299414643534907, 'avg time: ', 1.409248259332445)\n",
      "('epoch: ', 4, 'avg loss: ', 46724492.703703701, 'avg acc: ', 0.50952830027650908, 'avg time: ', 1.4082880020141602)\n",
      "('epoch: ', 5, 'avg loss: ', 35683346.962962963, 'avg acc: ', 0.55218905044926536, 'avg time: ', 1.4053929072839242)\n",
      "('epoch: ', 6, 'avg loss: ', 27949425.629629631, 'avg acc: ', 0.5803841805016553, 'avg time: ', 1.4093971649805705)\n",
      "('epoch: ', 7, 'avg loss: ', 22625920.666666668, 'avg acc: ', 0.61942265486275705, 'avg time: ', 1.40776057155044)\n",
      "('epoch: ', 8, 'avg loss: ', 18664258.462962963, 'avg acc: ', 0.64854848715994096, 'avg time: ', 1.4118617993813973)\n",
      "('epoch: ', 9, 'avg loss: ', 15714998.703703703, 'avg acc: ', 0.67103200598999302, 'avg time: ', 1.411467017950835)\n",
      "('epoch: ', 10, 'avg loss: ', 13583436.888888888, 'avg acc: ', 0.69984297730304579, 'avg time: ', 1.4093520729630082)\n",
      "('epoch: ', 11, 'avg loss: ', 11906935.157407407, 'avg acc: ', 0.71632997967578749, 'avg time: ', 1.411153206118831)\n",
      "('epoch: ', 12, 'avg loss: ', 10146891.75, 'avg acc: ', 0.74052399396896362, 'avg time: ', 1.4095212044539276)\n",
      "('epoch: ', 13, 'avg loss: ', 8077567.444444444, 'avg acc: ', 0.77608075186058323, 'avg time: ', 1.4074199243828103)\n",
      "('epoch: ', 14, 'avg loss: ', 7351491.9490740737, 'avg acc: ', 0.78481880492634248, 'avg time: ', 1.4103174297897905)\n",
      "('epoch: ', 15, 'avg loss: ', 6144154.5648148144, 'avg acc: ', 0.80765291606938394, 'avg time: ', 1.4071954444602683)\n",
      "('epoch: ', 16, 'avg loss: ', 5804384.8842592593, 'avg acc: ', 0.80870829908936115, 'avg time: ', 1.4077437409648188)\n",
      "('epoch: ', 17, 'avg loss: ', 4745148.3148148144, 'avg acc: ', 0.83724259888684305, 'avg time: ', 1.4059456321928236)\n",
      "('epoch: ', 18, 'avg loss: ', 4029806.576388889, 'avg acc: ', 0.84846678707334733, 'avg time: ', 1.406687166955736)\n",
      "('epoch: ', 19, 'avg loss: ', 3611150.7337962962, 'avg acc: ', 0.86205043836876194, 'avg time: ', 1.407532983356052)\n",
      "('epoch: ', 20, 'avg loss: ', 3164976.6319444445, 'avg acc: ', 0.87879322193287035, 'avg time: ', 1.4056003711841725)\n"
     ]
    }
   ],
   "source": [
    "ACCURACY, LOST = [], []\n",
    "for i in range(epoch):\n",
    "    last = time.time()\n",
    "    total_acc, total_loss = 0, 0\n",
    "    for k in range(0, (train_dataset.shape[0] // batch_size) * batch_size, batch_size):\n",
    "        batch_x, batch_y = [], []\n",
    "        for n in range(batch_size):\n",
    "            try:\n",
    "                batch_x.append(processAudio(train_dataset.slice_file_name.iloc[k + n]))\n",
    "                onehot = np.zeros((no_classes))\n",
    "                onehot[train_dataset.classID.iloc[k + n]] = 1.0\n",
    "                batch_y.append(onehot)\n",
    "            except Exception as e:\n",
    "                continue\n",
    "        batch_x = np.array(batch_x)\n",
    "        batch_y = np.array(batch_y)\n",
    "        loss, _ = sess.run([model.cost, model.optimizer], feed_dict = {model.X: batch_x, model.Y: batch_y})\n",
    "        total_acc += sess.run(model.accuracy, feed_dict = {model.X: batch_x, model.Y: batch_y})\n",
    "        total_loss += loss\n",
    "    total_loss /= (train_dataset.shape[0] // batch_size)\n",
    "    total_acc /= (train_dataset.shape[0] // batch_size)\n",
    "    ACCURACY.append(total_acc)\n",
    "    LOST.append(total_loss)\n",
    "    print('epoch: ', i + 1, 'avg loss: ', total_loss, 'avg acc: ', total_acc, 'avg time: ', (time.time() - last) / (train_dataset.shape[0] // batch_size))"
   ]
  },
  {
   "cell_type": "code",
   "execution_count": 9,
   "metadata": {},
   "outputs": [
    {
     "name": "stdout",
     "output_type": "stream",
     "text": [
      "testing accuracy: 0.4\n",
      "                  precision    recall  f1-score   support\n",
      "\n",
      " air_conditioner       0.40      0.20      0.27        10\n",
      "        car_horn       0.29      0.33      0.31         6\n",
      "children_playing       0.16      0.33      0.21         9\n",
      "        dog_bark       0.36      0.31      0.33        16\n",
      "        drilling       0.50      0.55      0.52        11\n",
      "   engine_idling       0.56      0.56      0.56         9\n",
      "        gun_shot       0.33      0.33      0.33         3\n",
      "      jackhammer       0.57      0.44      0.50         9\n",
      "           siren       0.46      0.67      0.55         9\n",
      "    street_music       0.67      0.31      0.42        13\n",
      "\n",
      "     avg / total       0.45      0.40      0.40        95\n",
      "\n"
     ]
    }
   ],
   "source": [
    "batch_x, batch_y, labels = [], [], []\n",
    "for n in range(128):\n",
    "    try:\n",
    "        batch_x.append(processAudio(test_dataset.slice_file_name.iloc[n]))\n",
    "        onehot = np.zeros((no_classes))\n",
    "        onehot[test_dataset.classID.iloc[n]] = 1.0\n",
    "        batch_y.append(onehot)\n",
    "        labels.append(test_dataset.classID.iloc[n])\n",
    "    except Exception as e:\n",
    "        continue\n",
    "batch_x = np.array(batch_x)\n",
    "batch_y = np.array(batch_y)\n",
    "acc, logits = sess.run([model.accuracy, tf.cast(tf.argmax(model.logits, 1), tf.int32)], feed_dict = {model.X : batch_x, model.Y : batch_y})\n",
    "print 'testing accuracy: ' + str(acc)\n",
    "print(metrics.classification_report(labels, logits, target_names = np.unique(unique_sound)))"
   ]
  },
  {
   "cell_type": "code",
   "execution_count": 10,
   "metadata": {},
   "outputs": [
    {
     "data": {
      "image/png": "[encoded data removed]",
      "text/plain": [
       "<matplotlib.figure.Figure at 0x7f711007ee90>"
      ]
     },
     "metadata": {},
     "output_type": "display_data"
    }
   ],
   "source": [
    "EPOCH = np.arange(len(LOST))\n",
    "plt.subplot(1, 2, 1)\n",
    "plt.plot(EPOCH, LOST)\n",
    "plt.xlabel('epoch'); plt.ylabel('loss')\n",
    "plt.subplot(1, 2, 2)\n",
    "plt.plot(EPOCH, ACCURACY)\n",
    "plt.xlabel('epoch'); plt.ylabel('accuracy')\n",
    "plt.show()"
   ]
  },
  {
   "cell_type": "code",
   "execution_count": null,
   "metadata": {
    "collapsed": true
   },
   "outputs": [],
   "source": []
  }
 ],
 "metadata": {
  "kernelspec": {
   "display_name": "Python 2",
   "language": "python",
   "name": "python2"
  },
  "language_info": {
   "codemirror_mode": {
    "name": "ipython",
    "version": 2
   },
   "file_extension": ".py",
   "mimetype": "text/x-python",
   "name": "python",
   "nbconvert_exporter": "python",
   "pygments_lexer": "ipython2",
   "version": "2.7.12"
  }
 },
 "nbformat": 4,
 "nbformat_minor": 2
}
