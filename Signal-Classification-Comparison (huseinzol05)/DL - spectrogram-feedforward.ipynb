{
 "cells": [
  {
   "cell_type": "code",
   "execution_count": 1,
   "metadata": {
    "collapsed": true
   },
   "outputs": [],
   "source": [
    "import tensorflow as tf\n",
    "import numpy as np\n",
    "import matplotlib.mlab\n",
    "import scipy.io.wavfile\n",
    "import scipy\n",
    "import pandas as pd\n",
    "import time\n",
    "from sklearn import metrics\n",
    "import matplotlib.pyplot as plt\n",
    "import seaborn as sns\n",
    "sns.set()"
   ]
  },
  {
   "cell_type": "code",
   "execution_count": 2,
   "metadata": {},
   "outputs": [
    {
     "data": {
      "text/html": [
       "<div>\n",
       "<table border=\"1\" class=\"dataframe\">\n",
       "  <thead>\n",
       "    <tr style=\"text-align: right;\">\n",
       "      <th></th>\n",
       "      <th>slice_file_name</th>\n",
       "      <th>fsID</th>\n",
       "      <th>start</th>\n",
       "      <th>end</th>\n",
       "      <th>salience</th>\n",
       "      <th>fold</th>\n",
       "      <th>classID</th>\n",
       "      <th>class</th>\n",
       "    </tr>\n",
       "  </thead>\n",
       "  <tbody>\n",
       "    <tr>\n",
       "      <th>3260</th>\n",
       "      <td>audio/fold10/167464-0-0-24.wav</td>\n",
       "      <td>167464</td>\n",
       "      <td>12.000000</td>\n",
       "      <td>16.000000</td>\n",
       "      <td>2</td>\n",
       "      <td>10</td>\n",
       "      <td>0</td>\n",
       "      <td>air_conditioner</td>\n",
       "    </tr>\n",
       "    <tr>\n",
       "      <th>6893</th>\n",
       "      <td>audio/fold1/57553-3-2-0.wav</td>\n",
       "      <td>57553</td>\n",
       "      <td>13.063603</td>\n",
       "      <td>14.279479</td>\n",
       "      <td>2</td>\n",
       "      <td>1</td>\n",
       "      <td>3</td>\n",
       "      <td>dog_bark</td>\n",
       "    </tr>\n",
       "    <tr>\n",
       "      <th>8649</th>\n",
       "      <td>audio/fold3/98681-9-0-0.wav</td>\n",
       "      <td>98681</td>\n",
       "      <td>0.000000</td>\n",
       "      <td>4.000000</td>\n",
       "      <td>2</td>\n",
       "      <td>3</td>\n",
       "      <td>9</td>\n",
       "      <td>street_music</td>\n",
       "    </tr>\n",
       "    <tr>\n",
       "      <th>2201</th>\n",
       "      <td>audio/fold9/155044-9-0-38.wav</td>\n",
       "      <td>155044</td>\n",
       "      <td>19.000000</td>\n",
       "      <td>23.000000</td>\n",
       "      <td>1</td>\n",
       "      <td>9</td>\n",
       "      <td>9</td>\n",
       "      <td>street_music</td>\n",
       "    </tr>\n",
       "    <tr>\n",
       "      <th>4269</th>\n",
       "      <td>audio/fold8/180134-4-2-15.wav</td>\n",
       "      <td>180134</td>\n",
       "      <td>49.378110</td>\n",
       "      <td>53.378110</td>\n",
       "      <td>1</td>\n",
       "      <td>8</td>\n",
       "      <td>4</td>\n",
       "      <td>drilling</td>\n",
       "    </tr>\n",
       "  </tbody>\n",
       "</table>\n",
       "</div>"
      ],
      "text/plain": [
       "                     slice_file_name    fsID      start        end  salience  \\\n",
       "3260  audio/fold10/167464-0-0-24.wav  167464  12.000000  16.000000         2   \n",
       "6893     audio/fold1/57553-3-2-0.wav   57553  13.063603  14.279479         2   \n",
       "8649     audio/fold3/98681-9-0-0.wav   98681   0.000000   4.000000         2   \n",
       "2201   audio/fold9/155044-9-0-38.wav  155044  19.000000  23.000000         1   \n",
       "4269   audio/fold8/180134-4-2-15.wav  180134  49.378110  53.378110         1   \n",
       "\n",
       "      fold  classID            class  \n",
       "3260    10        0  air_conditioner  \n",
       "6893     1        3         dog_bark  \n",
       "8649     3        9     street_music  \n",
       "2201     9        9     street_music  \n",
       "4269     8        4         drilling  "
      ]
     },
     "execution_count": 2,
     "metadata": {},
     "output_type": "execute_result"
    }
   ],
   "source": [
    "dataset = pd.read_csv('/home/husein/space/UrbanSound8K/metadata/UrbanSound8K.csv')\n",
    "dataset.slice_file_name = 'audio/fold' + dataset.fold.astype(str) + '/' + dataset.slice_file_name\n",
    "dataset = dataset.iloc[np.random.permutation(len(dataset))]\n",
    "dataset.head()"
   ]
  },
  {
   "cell_type": "code",
   "execution_count": 3,
   "metadata": {},
   "outputs": [
    {
     "data": {
      "text/plain": [
       "array(['air_conditioner', 'car_horn', 'children_playing', 'dog_bark',\n",
       "       'drilling', 'engine_idling', 'gun_shot', 'jackhammer', 'siren',\n",
       "       'street_music'], dtype=object)"
      ]
     },
     "execution_count": 3,
     "metadata": {},
     "output_type": "execute_result"
    }
   ],
   "source": [
    "unique_sound = np.unique(dataset.iloc[:, -1])\n",
    "unique_sound"
   ]
  },
  {
   "cell_type": "code",
   "execution_count": 4,
   "metadata": {
    "collapsed": true
   },
   "outputs": [],
   "source": [
    "# define our global variables\n",
    "learning_rate = 0.001\n",
    "sound_dimension = [64, 512]\n",
    "batch_size = 128\n",
    "epoch = 20"
   ]
  },
  {
   "cell_type": "code",
   "execution_count": 5,
   "metadata": {
    "collapsed": true
   },
   "outputs": [],
   "source": [
    "def processAudio(audio_file):\n",
    "    rate, data = scipy.io.wavfile.read(audio_file)\n",
    "    try:\n",
    "        if data.shape[1]:\n",
    "            data = np.mean(data, axis = 1)\n",
    "    except:\n",
    "        pass\n",
    "    audio = matplotlib.mlab.specgram(data)[0]\n",
    "    audio = scipy.misc.imresize(audio, sound_dimension)\n",
    "    return audio.flatten()"
   ]
  },
  {
   "cell_type": "code",
   "execution_count": 6,
   "metadata": {
    "collapsed": true
   },
   "outputs": [],
   "source": [
    "class Model:\n",
    "    def __init__(self, size_output):\n",
    "        self.X = tf.placeholder(tf.float32, (None, sound_dimension[0] * sound_dimension[1]))\n",
    "        self.Y = tf.placeholder(tf.float32, (None, size_output))\n",
    "        \n",
    "        w1 = tf.Variable(tf.random_normal([sound_dimension[0] * sound_dimension[1], 784], stddev = np.sqrt(1/784.0)))\n",
    "        b1 = tf.Variable(tf.random_normal([784], stddev = 0))\n",
    "        \n",
    "        w2 = tf.Variable(tf.random_normal([784, 256], stddev = np.sqrt(1/256.0)))\n",
    "        b2 = tf.Variable(tf.random_normal([256], stddev = 0))\n",
    "        \n",
    "        w3 = tf.Variable(tf.random_normal([256, 100], stddev = np.sqrt(1/100.0)))\n",
    "        b3 = tf.Variable(tf.random_normal([100], stddev = 0))\n",
    "        \n",
    "        w4 = tf.Variable(tf.random_normal([100, size_output], stddev = np.sqrt(1/(size_output * 1.0))))\n",
    "        b4 = tf.Variable(tf.random_normal([size_output], stddev = 0))\n",
    "        \n",
    "        hidden1 = tf.nn.relu(tf.matmul(self.X, w1) + b1)\n",
    "        hidden2 = tf.nn.relu(tf.matmul(hidden1, w2) + b2)\n",
    "        hidden3 = tf.nn.relu(tf.matmul(hidden2, w3) + b3)\n",
    "        self.logits = tf.matmul(hidden3, w4) + b4\n",
    "        self.cost = tf.reduce_mean(tf.nn.softmax_cross_entropy_with_logits(logits = self.logits, labels = self.Y))\n",
    "        self.optimizer = tf.train.AdamOptimizer(learning_rate).minimize(self.cost)\n",
    "        correct_prediction = tf.equal(tf.argmax(self.logits, 1), tf.argmax(self.Y, 1))\n",
    "        self.accuracy = tf.reduce_mean(tf.cast(correct_prediction, \"float\"))"
   ]
  },
  {
   "cell_type": "code",
   "execution_count": 7,
   "metadata": {
    "collapsed": true
   },
   "outputs": [],
   "source": [
    "no_classes = np.unique(dataset['classID']).shape[0]\n",
    "sess = tf.InteractiveSession()\n",
    "model = Model(no_classes)\n",
    "sess.run(tf.global_variables_initializer())\n",
    "saver = tf.train.Saver(tf.global_variables())\n",
    "\n",
    "train_dataset = dataset.iloc[:int(dataset.shape[0] * 0.80), :]\n",
    "test_dataset = dataset.iloc[int(dataset.shape[0] * 0.80):, :]"
   ]
  },
  {
   "cell_type": "code",
   "execution_count": 8,
   "metadata": {},
   "outputs": [
    {
     "name": "stdout",
     "output_type": "stream",
     "text": [
      "('epoch: ', 1, 'avg loss: ', 38.681511048917415, 'avg acc: ', 0.34631681497450229, 'avg time: ', 1.1846145391464233)\n",
      "('epoch: ', 2, 'avg loss: ', 10.284185537585506, 'avg acc: ', 0.46804722039787855, 'avg time: ', 1.1832178124675043)\n",
      "('epoch: ', 3, 'avg loss: ', 4.818431311183506, 'avg acc: ', 0.58318529691961074, 'avg time: ', 1.1827876479537398)\n",
      "('epoch: ', 4, 'avg loss: ', 3.856180195455198, 'avg acc: ', 0.63080330910506077, 'avg time: ', 1.1820432036011308)\n",
      "('epoch: ', 5, 'avg loss: ', 3.2105771016191551, 'avg acc: ', 0.67482221457693314, 'avg time: ', 1.1815304623709784)\n",
      "('epoch: ', 6, 'avg loss: ', 2.2258183338023998, 'avg acc: ', 0.71529215795022472, 'avg time: ', 1.1794133892765752)\n",
      "('epoch: ', 7, 'avg loss: ', 2.0526084447348558, 'avg acc: ', 0.75042694807052612, 'avg time: ', 1.178878316172847)\n",
      "('epoch: ', 8, 'avg loss: ', 1.5949348023644201, 'avg acc: ', 0.77596086815551479, 'avg time: ', 1.1801795738714713)\n",
      "('epoch: ', 9, 'avg loss: ', 1.196668208197311, 'avg acc: ', 0.81461248022538646, 'avg time: ', 1.1814612061889083)\n",
      "('epoch: ', 10, 'avg loss: ', 1.0416298144393497, 'avg acc: ', 0.83346935113271081, 'avg time: ', 1.1791424839584916)\n",
      "('epoch: ', 11, 'avg loss: ', 0.65676048177259938, 'avg acc: ', 0.87958187085610851, 'avg time: ', 1.180457146079452)\n",
      "('epoch: ', 12, 'avg loss: ', 0.57014686586680241, 'avg acc: ', 0.89842911671709136, 'avg time: ', 1.1808845025521737)\n",
      "('epoch: ', 13, 'avg loss: ', 0.43195612011132417, 'avg acc: ', 0.91864983792658206, 'avg time: ', 1.1811832012953583)\n",
      "('epoch: ', 14, 'avg loss: ', 0.34176873553682258, 'avg acc: ', 0.93126081316559406, 'avg time: ', 1.1802966682999223)\n",
      "('epoch: ', 15, 'avg loss: ', 0.33069951915078694, 'avg acc: ', 0.93880702279232164, 'avg time: ', 1.1802366265544184)\n",
      "('epoch: ', 16, 'avg loss: ', 0.38642849511018507, 'avg acc: ', 0.93253386131039373, 'avg time: ', 1.1820005178451538)\n",
      "('epoch: ', 17, 'avg loss: ', 0.39718584895685866, 'avg acc: ', 0.92877270888399199, 'avg time: ', 1.1809541119469538)\n",
      "('epoch: ', 18, 'avg loss: ', 0.36242452760537464, 'avg acc: ', 0.94086872648309783, 'avg time: ', 1.1805584607300934)\n",
      "('epoch: ', 19, 'avg loss: ', 0.42873860757659982, 'avg acc: ', 0.93803447705728038, 'avg time: ', 1.1796522979383115)\n",
      "('epoch: ', 20, 'avg loss: ', 0.39530716519112941, 'avg acc: ', 0.93634235196643401, 'avg time: ', 1.1792994251957647)\n"
     ]
    }
   ],
   "source": [
    "ACCURACY, LOST = [], []\n",
    "for i in range(epoch):\n",
    "    last = time.time()\n",
    "    total_acc, total_loss = 0, 0\n",
    "    for k in range(0, (train_dataset.shape[0] // batch_size) * batch_size, batch_size):\n",
    "        batch_x, batch_y = [], []\n",
    "        for n in range(batch_size):\n",
    "            try:\n",
    "                batch_x.append(processAudio(train_dataset.slice_file_name.iloc[k + n]))\n",
    "                onehot = np.zeros((no_classes))\n",
    "                onehot[train_dataset.classID.iloc[k + n]] = 1.0\n",
    "                batch_y.append(onehot)\n",
    "            except Exception as e:\n",
    "                continue\n",
    "        batch_x = np.array(batch_x)\n",
    "        batch_y = np.array(batch_y)\n",
    "        loss, _ = sess.run([model.cost, model.optimizer], feed_dict = {model.X: batch_x, model.Y: batch_y})\n",
    "        total_acc += sess.run(model.accuracy, feed_dict = {model.X: batch_x, model.Y: batch_y})\n",
    "        total_loss += loss\n",
    "    total_loss /= (train_dataset.shape[0] // batch_size)\n",
    "    total_acc /= (train_dataset.shape[0] // batch_size)\n",
    "    ACCURACY.append(total_acc)\n",
    "    LOST.append(total_loss)\n",
    "    print('epoch: ', i + 1, 'avg loss: ', total_loss, 'avg acc: ', total_acc, 'avg time: ', (time.time() - last) / (train_dataset.shape[0] // batch_size))"
   ]
  },
  {
   "cell_type": "code",
   "execution_count": 9,
   "metadata": {},
   "outputs": [
    {
     "name": "stdout",
     "output_type": "stream",
     "text": [
      "testing accuracy: 0.472927\n",
      "                  precision    recall  f1-score   support\n",
      "\n",
      " air_conditioner       0.39      0.39      0.39       112\n",
      "        car_horn       0.40      0.50      0.45        68\n",
      "children_playing       0.31      0.20      0.24       116\n",
      "        dog_bark       0.62      0.47      0.54       142\n",
      "        drilling       0.39      0.83      0.53       142\n",
      "   engine_idling       0.47      0.50      0.48       127\n",
      "        gun_shot       0.70      0.55      0.62        67\n",
      "      jackhammer       0.50      0.52      0.51       137\n",
      "           siren       0.68      0.68      0.68       132\n",
      "    street_music       0.32      0.09      0.14       139\n",
      "\n",
      "     avg / total       0.47      0.47      0.45      1182\n",
      "\n"
     ]
    }
   ],
   "source": [
    "batch_x, batch_y, labels = [], [], []\n",
    "for n in range(test_dataset.shape[0]):\n",
    "    try:\n",
    "        batch_x.append(processAudio(test_dataset.slice_file_name.iloc[n]))\n",
    "        onehot = np.zeros((no_classes))\n",
    "        onehot[test_dataset.classID.iloc[n]] = 1.0\n",
    "        batch_y.append(onehot)\n",
    "        labels.append(test_dataset.classID.iloc[n])\n",
    "    except Exception as e:\n",
    "        continue\n",
    "batch_x = np.array(batch_x)\n",
    "batch_y = np.array(batch_y)\n",
    "acc, logits = sess.run([model.accuracy, tf.cast(tf.argmax(model.logits, 1), tf.int32)], feed_dict = {model.X : batch_x, model.Y : batch_y})\n",
    "print 'testing accuracy: ' + str(acc)\n",
    "print(metrics.classification_report(labels, logits, target_names = np.unique(unique_sound)))"
   ]
  },
  {
   "cell_type": "code",
   "execution_count": 10,
   "metadata": {},
   "outputs": [
    {
     "data": {
      "image/png": "[encoded data removed]",
      "text/plain": [
       "<matplotlib.figure.Figure at 0x7f06024f7550>"
      ]
     },
     "metadata": {},
     "output_type": "display_data"
    }
   ],
   "source": [
    "EPOCH = np.arange(len(LOST))\n",
    "plt.subplot(1, 2, 1)\n",
    "plt.plot(EPOCH, LOST)\n",
    "plt.xlabel('epoch'); plt.ylabel('loss')\n",
    "plt.subplot(1, 2, 2)\n",
    "plt.plot(EPOCH, ACCURACY)\n",
    "plt.xlabel('epoch'); plt.ylabel('accuracy')\n",
    "plt.show()"
   ]
  }
 ],
 "metadata": {
  "kernelspec": {
   "display_name": "Python 2",
   "language": "python",
   "name": "python2"
  },
  "language_info": {
   "codemirror_mode": {
    "name": "ipython",
    "version": 2
   },
   "file_extension": ".py",
   "mimetype": "text/x-python",
   "name": "python",
   "nbconvert_exporter": "python",
   "pygments_lexer": "ipython2",
   "version": "2.7.12"
  }
 },
 "nbformat": 4,
 "nbformat_minor": 2
}
