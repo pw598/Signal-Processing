{
 "cells": [
  {
   "cell_type": "code",
   "execution_count": 1,
   "metadata": {
    "collapsed": true
   },
   "outputs": [],
   "source": [
    "import tensorflow as tf\n",
    "import numpy as np\n",
    "import matplotlib.mlab\n",
    "import scipy.io.wavfile\n",
    "import scipy\n",
    "import pandas as pd\n",
    "import time\n",
    "from sklearn import metrics\n",
    "import matplotlib.pyplot as plt\n",
    "import seaborn as sns\n",
    "sns.set()"
   ]
  },
  {
   "cell_type": "code",
   "execution_count": 2,
   "metadata": {},
   "outputs": [
    {
     "data": {
      "text/html": [
       "<div>\n",
       "<table border=\"1\" class=\"dataframe\">\n",
       "  <thead>\n",
       "    <tr style=\"text-align: right;\">\n",
       "      <th></th>\n",
       "      <th>slice_file_name</th>\n",
       "      <th>fsID</th>\n",
       "      <th>start</th>\n",
       "      <th>end</th>\n",
       "      <th>salience</th>\n",
       "      <th>fold</th>\n",
       "      <th>classID</th>\n",
       "      <th>class</th>\n",
       "    </tr>\n",
       "  </thead>\n",
       "  <tbody>\n",
       "    <tr>\n",
       "      <th>1129</th>\n",
       "      <td>audio/fold8/125678-7-4-4.wav</td>\n",
       "      <td>125678</td>\n",
       "      <td>96.843843</td>\n",
       "      <td>100.843843</td>\n",
       "      <td>1</td>\n",
       "      <td>8</td>\n",
       "      <td>7</td>\n",
       "      <td>jackhammer</td>\n",
       "    </tr>\n",
       "    <tr>\n",
       "      <th>3860</th>\n",
       "      <td>audio/fold1/177621-0-0-105.wav</td>\n",
       "      <td>177621</td>\n",
       "      <td>52.500000</td>\n",
       "      <td>56.500000</td>\n",
       "      <td>2</td>\n",
       "      <td>1</td>\n",
       "      <td>0</td>\n",
       "      <td>air_conditioner</td>\n",
       "    </tr>\n",
       "    <tr>\n",
       "      <th>177</th>\n",
       "      <td>audio/fold1/103074-7-1-3.wav</td>\n",
       "      <td>103074</td>\n",
       "      <td>24.017317</td>\n",
       "      <td>28.017317</td>\n",
       "      <td>1</td>\n",
       "      <td>1</td>\n",
       "      <td>7</td>\n",
       "      <td>jackhammer</td>\n",
       "    </tr>\n",
       "    <tr>\n",
       "      <th>696</th>\n",
       "      <td>audio/fold8/113202-5-0-15.wav</td>\n",
       "      <td>113202</td>\n",
       "      <td>7.500000</td>\n",
       "      <td>11.500000</td>\n",
       "      <td>1</td>\n",
       "      <td>8</td>\n",
       "      <td>5</td>\n",
       "      <td>engine_idling</td>\n",
       "    </tr>\n",
       "    <tr>\n",
       "      <th>3568</th>\n",
       "      <td>audio/fold4/173994-3-0-44.wav</td>\n",
       "      <td>173994</td>\n",
       "      <td>22.000000</td>\n",
       "      <td>26.000000</td>\n",
       "      <td>1</td>\n",
       "      <td>4</td>\n",
       "      <td>3</td>\n",
       "      <td>dog_bark</td>\n",
       "    </tr>\n",
       "  </tbody>\n",
       "</table>\n",
       "</div>"
      ],
      "text/plain": [
       "                     slice_file_name    fsID      start         end  salience  \\\n",
       "1129    audio/fold8/125678-7-4-4.wav  125678  96.843843  100.843843         1   \n",
       "3860  audio/fold1/177621-0-0-105.wav  177621  52.500000   56.500000         2   \n",
       "177     audio/fold1/103074-7-1-3.wav  103074  24.017317   28.017317         1   \n",
       "696    audio/fold8/113202-5-0-15.wav  113202   7.500000   11.500000         1   \n",
       "3568   audio/fold4/173994-3-0-44.wav  173994  22.000000   26.000000         1   \n",
       "\n",
       "      fold  classID            class  \n",
       "1129     8        7       jackhammer  \n",
       "3860     1        0  air_conditioner  \n",
       "177      1        7       jackhammer  \n",
       "696      8        5    engine_idling  \n",
       "3568     4        3         dog_bark  "
      ]
     },
     "execution_count": 2,
     "metadata": {},
     "output_type": "execute_result"
    }
   ],
   "source": [
    "dataset = pd.read_csv('/home/husein/space/UrbanSound8K/metadata/UrbanSound8K.csv')\n",
    "dataset.slice_file_name = 'audio/fold' + dataset.fold.astype(str) + '/' + dataset.slice_file_name\n",
    "dataset = dataset.iloc[np.random.permutation(len(dataset))]\n",
    "dataset.head()"
   ]
  },
  {
   "cell_type": "code",
   "execution_count": 3,
   "metadata": {},
   "outputs": [
    {
     "data": {
      "text/plain": [
       "array(['air_conditioner', 'car_horn', 'children_playing', 'dog_bark',\n",
       "       'drilling', 'engine_idling', 'gun_shot', 'jackhammer', 'siren',\n",
       "       'street_music'], dtype=object)"
      ]
     },
     "execution_count": 3,
     "metadata": {},
     "output_type": "execute_result"
    }
   ],
   "source": [
    "unique_sound = np.unique(dataset.iloc[:, -1])\n",
    "unique_sound"
   ]
  },
  {
   "cell_type": "code",
   "execution_count": 4,
   "metadata": {
    "collapsed": true
   },
   "outputs": [],
   "source": [
    "learning_rate = 0.001\n",
    "time_stamp = 64\n",
    "dimension = 512\n",
    "batch_size = 128\n",
    "epoch = 20\n",
    "num_layers = 3\n",
    "size_layer = 256"
   ]
  },
  {
   "cell_type": "code",
   "execution_count": 5,
   "metadata": {},
   "outputs": [],
   "source": [
    "def processAudio(audio_file):\n",
    "    rate, data = scipy.io.wavfile.read(audio_file)\n",
    "    try:\n",
    "        if data.shape[1]:\n",
    "            data = np.mean(data, axis = 1)\n",
    "    except:\n",
    "        pass\n",
    "    audio = matplotlib.mlab.specgram(data)[0]\n",
    "    return scipy.misc.imresize(audio, [time_stamp, dimension])"
   ]
  },
  {
   "cell_type": "code",
   "execution_count": 6,
   "metadata": {
    "collapsed": true
   },
   "outputs": [],
   "source": [
    "class Model:\n",
    "    \n",
    "    def __init__(self, size_output):\n",
    "        \n",
    "        def lstm_cell():\n",
    "            return tf.nn.rnn_cell.LSTMCell(size_layer)\n",
    "        \n",
    "        self.rnn_cells = tf.nn.rnn_cell.MultiRNNCell([lstm_cell() for _ in range(num_layers)])\n",
    "        \n",
    "        self.X = tf.placeholder(tf.float32, [None, None, dimension])\n",
    "        self.Y = tf.placeholder(tf.float32, [None, size_output])\n",
    "        \n",
    "        self.outputs, self.last_state = tf.nn.dynamic_rnn(self.rnn_cells, self.X, dtype = tf.float32)\n",
    "        \n",
    "        rnn_W = tf.Variable(tf.random_normal((size_layer, size_output)))\n",
    "        rnn_B = tf.Variable(tf.random_normal([size_output]))\n",
    "        self.logits = tf.matmul(self.outputs[:, -1], rnn_W) + rnn_B\n",
    "        \n",
    "        self.cost = tf.reduce_mean(tf.nn.softmax_cross_entropy_with_logits(logits = self.logits, labels = self.Y))\n",
    "        \n",
    "        self.optimizer = tf.train.AdamOptimizer(learning_rate = learning_rate).minimize(self.cost)\n",
    "        \n",
    "        self.correct_pred = tf.equal(tf.argmax(self.logits, 1), tf.argmax(self.Y, 1))\n",
    "        \n",
    "        self.accuracy = tf.reduce_mean(tf.cast(self.correct_pred, tf.float32))"
   ]
  },
  {
   "cell_type": "code",
   "execution_count": 7,
   "metadata": {},
   "outputs": [],
   "source": [
    "no_classes = np.unique(dataset['classID']).shape[0]\n",
    "sess = tf.InteractiveSession()\n",
    "model = Model(no_classes)\n",
    "sess.run(tf.global_variables_initializer())\n",
    "saver = tf.train.Saver(tf.global_variables())\n",
    "\n",
    "train_dataset = dataset.iloc[:int(dataset.shape[0] * 0.80), :]\n",
    "test_dataset = dataset.iloc[int(dataset.shape[0] * 0.80):, :]"
   ]
  },
  {
   "cell_type": "code",
   "execution_count": 8,
   "metadata": {},
   "outputs": [
    {
     "name": "stdout",
     "output_type": "stream",
     "text": [
      "('epoch: ', 1, 'avg loss: ', 2.1510376665327282, 'avg acc: ', 0.26169908640009387, 'avg time: ', 1.3004957967334323)\n",
      "('epoch: ', 2, 'avg loss: ', 1.8687300240551983, 'avg acc: ', 0.32877649891155736, 'avg time: ', 1.295422112500226)\n",
      "('epoch: ', 3, 'avg loss: ', 1.7374366014092057, 'avg acc: ', 0.38838847423041306, 'avg time: ', 1.2957094245486789)\n",
      "('epoch: ', 4, 'avg loss: ', 1.5682201716634963, 'avg acc: ', 0.45382225623837225, 'avg time: ', 1.2962347578119349)\n",
      "('epoch: ', 5, 'avg loss: ', 1.4230377409193251, 'avg acc: ', 0.5331389175521003, 'avg time: ', 1.2961179282930162)\n",
      "('epoch: ', 6, 'avg loss: ', 1.2770085555535775, 'avg acc: ', 0.57837841080294716, 'avg time: ', 1.295755315709997)\n",
      "('epoch: ', 7, 'avg loss: ', 1.2246687677171495, 'avg acc: ', 0.61030772217997797, 'avg time: ', 1.2962308724721272)\n",
      "('epoch: ', 8, 'avg loss: ', 1.0784213024157066, 'avg acc: ', 0.65618068531707485, 'avg time: ', 1.2960012753804524)\n",
      "('epoch: ', 9, 'avg loss: ', 1.0243017044332292, 'avg acc: ', 0.67723421918021309, 'avg time: ', 1.295932372411092)\n",
      "('epoch: ', 10, 'avg loss: ', 1.0101012035652444, 'avg acc: ', 0.68378723661104834, 'avg time: ', 1.295243704760516)\n",
      "('epoch: ', 11, 'avg loss: ', 0.9387575045779899, 'avg acc: ', 0.70931642033435682, 'avg time: ', 1.2958803132728294)\n",
      "('epoch: ', 12, 'avg loss: ', 0.93555085968088225, 'avg acc: ', 0.70732399379765543, 'avg time: ', 1.2968248702861644)\n",
      "('epoch: ', 13, 'avg loss: ', 0.86130006666536685, 'avg acc: ', 0.73514311953827183, 'avg time: ', 1.2967655570418746)\n",
      "('epoch: ', 14, 'avg loss: ', 0.82304254284611456, 'avg acc: ', 0.74056734641393029, 'avg time: ', 1.2958647586681225)\n",
      "('epoch: ', 15, 'avg loss: ', 0.77841641560748775, 'avg acc: ', 0.76124573416180086, 'avg time: ', 1.2965232045562178)\n",
      "('epoch: ', 16, 'avg loss: ', 0.6538971386573933, 'avg acc: ', 0.81949622101253938, 'avg time: ', 1.2960414047594424)\n",
      "('epoch: ', 17, 'avg loss: ', 0.66374334472197072, 'avg acc: ', 0.81862628791067338, 'avg time: ', 1.2959498343644318)\n",
      "('epoch: ', 18, 'avg loss: ', 0.59316482146581018, 'avg acc: ', 0.84701195028093124, 'avg time: ', 1.2960657234545108)\n",
      "('epoch: ', 19, 'avg loss: ', 0.58465038626282306, 'avg acc: ', 0.85207202589070352, 'avg time: ', 1.2953290895179466)\n",
      "('epoch: ', 20, 'avg loss: ', 0.57856843703322935, 'avg acc: ', 0.84852628023536114, 'avg time: ', 1.2969296464213618)\n"
     ]
    }
   ],
   "source": [
    "ACCURACY, LOST = [], []\n",
    "for i in range(epoch):\n",
    "    last = time.time()\n",
    "    total_acc, total_loss = 0, 0\n",
    "    for k in range(0, (train_dataset.shape[0] // batch_size) * batch_size, batch_size):\n",
    "        batch_x, batch_y = [], []\n",
    "        for n in range(batch_size):\n",
    "            try:\n",
    "                batch_x.append(processAudio(train_dataset.slice_file_name.iloc[k + n]))\n",
    "                onehot = np.zeros((no_classes))\n",
    "                onehot[train_dataset.classID.iloc[k + n]] = 1.0\n",
    "                batch_y.append(onehot)\n",
    "            except Exception as e:\n",
    "                continue\n",
    "        batch_x = np.array(batch_x)\n",
    "        batch_y = np.array(batch_y)\n",
    "        loss, _ = sess.run([model.cost, model.optimizer], feed_dict = {model.X: batch_x, model.Y: batch_y})\n",
    "        total_acc += sess.run(model.accuracy, feed_dict = {model.X: batch_x, model.Y: batch_y})\n",
    "        total_loss += loss\n",
    "    total_loss /= (train_dataset.shape[0] // batch_size)\n",
    "    total_acc /= (train_dataset.shape[0] // batch_size)\n",
    "    ACCURACY.append(total_acc)\n",
    "    LOST.append(total_loss)\n",
    "    print('epoch: ', i + 1, 'avg loss: ', total_loss, 'avg acc: ', total_acc, 'avg time: ', (time.time() - last) / (train_dataset.shape[0] // batch_size))"
   ]
  },
  {
   "cell_type": "code",
   "execution_count": 9,
   "metadata": {},
   "outputs": [
    {
     "name": "stdout",
     "output_type": "stream",
     "text": [
      "testing accuracy: 0.453488\n",
      "                  precision    recall  f1-score   support\n",
      "\n",
      " air_conditioner       0.35      0.55      0.43        11\n",
      "        car_horn       0.50      0.40      0.44         5\n",
      "children_playing       0.20      0.11      0.14         9\n",
      "        dog_bark       1.00      0.64      0.78        11\n",
      "        drilling       0.38      0.45      0.42        11\n",
      "   engine_idling       1.00      0.44      0.62         9\n",
      "        gun_shot       1.00      0.50      0.67         2\n",
      "      jackhammer       0.50      0.60      0.55        10\n",
      "           siren       0.50      0.22      0.31         9\n",
      "    street_music       0.26      0.56      0.36         9\n",
      "\n",
      "     avg / total       0.54      0.45      0.46        86\n",
      "\n"
     ]
    }
   ],
   "source": [
    "batch_x, batch_y, labels = [], [], []\n",
    "for n in range(128):\n",
    "    try:\n",
    "        batch_x.append(processAudio(test_dataset.slice_file_name.iloc[n]))\n",
    "        onehot = np.zeros((no_classes))\n",
    "        onehot[test_dataset.classID.iloc[n]] = 1.0\n",
    "        batch_y.append(onehot)\n",
    "        labels.append(test_dataset.classID.iloc[n])\n",
    "    except Exception as e:\n",
    "        continue\n",
    "batch_x = np.array(batch_x)\n",
    "batch_y = np.array(batch_y)\n",
    "acc, logits = sess.run([model.accuracy, tf.cast(tf.argmax(model.logits, 1), tf.int32)], feed_dict = {model.X : batch_x, model.Y : batch_y})\n",
    "print 'testing accuracy: ' + str(acc)\n",
    "print(metrics.classification_report(labels, logits, target_names = np.unique(unique_sound)))"
   ]
  },
  {
   "cell_type": "code",
   "execution_count": 10,
   "metadata": {},
   "outputs": [
    {
     "data": {
      "image/png": "[encoded data removed]",
      "text/plain": [
       "<matplotlib.figure.Figure at 0x7f992d962990>"
      ]
     },
     "metadata": {},
     "output_type": "display_data"
    }
   ],
   "source": [
    "EPOCH = np.arange(len(LOST))\n",
    "plt.subplot(1, 2, 1)\n",
    "plt.plot(EPOCH, LOST)\n",
    "plt.xlabel('epoch'); plt.ylabel('loss')\n",
    "plt.subplot(1, 2, 2)\n",
    "plt.plot(EPOCH, ACCURACY)\n",
    "plt.xlabel('epoch'); plt.ylabel('accuracy')\n",
    "plt.show()"
   ]
  }
 ],
 "metadata": {
  "kernelspec": {
   "display_name": "Python 2",
   "language": "python",
   "name": "python2"
  },
  "language_info": {
   "codemirror_mode": {
    "name": "ipython",
    "version": 2
   },
   "file_extension": ".py",
   "mimetype": "text/x-python",
   "name": "python",
   "nbconvert_exporter": "python",
   "pygments_lexer": "ipython2",
   "version": "2.7.12"
  }
 },
 "nbformat": 4,
 "nbformat_minor": 2
}
