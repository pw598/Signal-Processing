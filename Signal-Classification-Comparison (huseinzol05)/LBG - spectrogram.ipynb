{
 "cells": [
  {
   "cell_type": "code",
   "execution_count": 1,
   "metadata": {
    "collapsed": true
   },
   "outputs": [],
   "source": [
    "import tensorflow as tf\n",
    "import numpy as np\n",
    "import matplotlib.mlab\n",
    "import scipy.io.wavfile\n",
    "import scipy\n",
    "import os\n",
    "import time\n",
    "from sklearn import metrics\n",
    "import matplotlib.pyplot as plt\n",
    "import seaborn as sns\n",
    "from scipy import sparse\n",
    "sns.set()"
   ]
  },
  {
   "cell_type": "code",
   "execution_count": 2,
   "metadata": {
    "collapsed": true
   },
   "outputs": [],
   "source": [
    "def processAudio(folder, sound_dimension = [128, 128]):\n",
    "    location = folder + '/'\n",
    "    elements = os.listdir(location)\n",
    "    results,labels = [], []\n",
    "    for i in elements:\n",
    "        try:\n",
    "            fs, data = scipy.io.wavfile.read(location+i)\n",
    "            try:\n",
    "                data = np.mean(data, axis = 1)\n",
    "            except:\n",
    "                pass\n",
    "            audio = matplotlib.mlab.specgram(data)[0]\n",
    "            audio = scipy.misc.imresize(audio, sound_dimension)\n",
    "            audio = audio.astype('float64')\n",
    "            results.append(sparse.csr_matrix(audio.flatten()))\n",
    "            labels.append(folder)\n",
    "        except Exception as e:\n",
    "            print(e)\n",
    "            continue\n",
    "    return sparse.vstack(results), labels"
   ]
  },
  {
   "cell_type": "code",
   "execution_count": 3,
   "metadata": {
    "collapsed": true
   },
   "outputs": [],
   "source": [
    "folders = [i for i in os.listdir(os.getcwd())if i.find('.md') < 0 and i.find('.txt') < 0 and i.find('ipynb') < 0 and i.find('LICENSE') < 0 and i.find('_background_noise_') < 0]"
   ]
  },
  {
   "cell_type": "code",
   "execution_count": 4,
   "metadata": {},
   "outputs": [
    {
     "name": "stdout",
     "output_type": "stream",
     "text": [
      "yes\n",
      "marvin\n",
      "off\n",
      "happy\n",
      "bed\n",
      "house\n",
      "up\n",
      "six\n",
      "go\n",
      "four\n",
      "nine\n",
      "left\n",
      "no\n",
      "three\n",
      "wow\n",
      "sheila\n",
      "right\n",
      "on\n",
      "five\n",
      "seven\n",
      "zero\n",
      "stop\n",
      "one\n",
      "down\n",
      "bird\n",
      "tree\n",
      "eight\n",
      "dog\n",
      "two\n",
      "cat\n"
     ]
    }
   ],
   "source": [
    "output,label = [], []\n",
    "for i in folders:\n",
    "    print(i)\n",
    "    out = processAudio(i)\n",
    "    output.append(out[0])\n",
    "    label += out[1]"
   ]
  },
  {
   "cell_type": "code",
   "execution_count": 5,
   "metadata": {},
   "outputs": [
    {
     "name": "stdout",
     "output_type": "stream",
     "text": [
      "64721\n"
     ]
    },
    {
     "data": {
      "text/plain": [
       "(64721, 16384)"
      ]
     },
     "execution_count": 5,
     "metadata": {},
     "output_type": "execute_result"
    }
   ],
   "source": [
    "print(len(label))\n",
    "output = sparse.vstack(output)\n",
    "output.shape"
   ]
  },
  {
   "cell_type": "code",
   "execution_count": 6,
   "metadata": {},
   "outputs": [
    {
     "name": "stderr",
     "output_type": "stream",
     "text": [
      "/usr/local/lib/python3.5/dist-packages/sklearn/cross_validation.py:41: DeprecationWarning: This module was deprecated in version 0.18 in favor of the model_selection module into which all the refactored classes and functions are moved. Also note that the interface of the new CV iterators are different from that of this module. This module will be removed in 0.20.\n",
      "  \"This module will be removed in 0.20.\", DeprecationWarning)\n"
     ]
    }
   ],
   "source": [
    "import lightgbm as lgb\n",
    "from sklearn.cross_validation import train_test_split\n",
    "from sklearn.preprocessing import LabelEncoder\n",
    "labels = np.unique(label)\n",
    "target = LabelEncoder().fit_transform(label)\n",
    "train_X, test_X, train_Y, test_Y = train_test_split(output, target, test_size = 0.2)"
   ]
  },
  {
   "cell_type": "code",
   "execution_count": 7,
   "metadata": {},
   "outputs": [
    {
     "name": "stderr",
     "output_type": "stream",
     "text": [
      "/usr/local/lib/python3.5/dist-packages/lightgbm/basic.py:642: UserWarning: max_bin keyword has been found in `params` and will be ignored. Please use max_bin argument of the Dataset constructor to pass this parameter.\n",
      "  'Please use {0} argument of the Dataset constructor to pass this parameter.'.format(key))\n",
      "/usr/local/lib/python3.5/dist-packages/lightgbm/basic.py:648: LGBMDeprecationWarning: The `max_bin` parameter is deprecated and will be removed in 2.0.12 version. Please use `params` to pass this parameter.\n",
      "  'Please use `params` to pass this parameter.', LGBMDeprecationWarning)\n"
     ]
    },
    {
     "name": "stdout",
     "output_type": "stream",
     "text": [
      "time taken to fit lgb: 2628.1320009231567 seconds \n"
     ]
    }
   ],
   "source": [
    "params_lgd = {\n",
    "    'boosting_type': 'dart',\n",
    "    'objective': 'multiclass',\n",
    "    'colsample_bytree': 0.4,\n",
    "    'subsample': 0.8,\n",
    "    'learning_rate': 0.1,\n",
    "    'silent': False,\n",
    "    'n_estimators': 10000,\n",
    "    'reg_lambda': 0.0005,\n",
    "    'device':'gpu'\n",
    "    }\n",
    "clf = lgb.LGBMClassifier(**params_lgd)\n",
    "lasttime = time.time()\n",
    "clf.fit(train_X,train_Y, eval_set=[(train_X,train_Y), (test_X,test_Y)], \n",
    "        eval_metric='logloss', early_stopping_rounds=20, verbose=False)\n",
    "print('time taken to fit lgb:', time.time()-lasttime, 'seconds ')"
   ]
  },
  {
   "cell_type": "code",
   "execution_count": 9,
   "metadata": {},
   "outputs": [
    {
     "name": "stdout",
     "output_type": "stream",
     "text": [
      "accuracy validation set:  0.649594438007\n",
      "             precision    recall  f1-score   support\n",
      "\n",
      "        bed       0.56      0.52      0.54       332\n",
      "       bird       0.84      0.66      0.74       381\n",
      "        cat       0.64      0.68      0.66       353\n",
      "        dog       0.61      0.51      0.55       332\n",
      "       down       0.61      0.55      0.58       476\n",
      "      eight       0.68      0.73      0.70       470\n",
      "       five       0.64      0.57      0.60       466\n",
      "       four       0.67      0.77      0.71       469\n",
      "         go       0.52      0.54      0.53       478\n",
      "      happy       0.87      0.84      0.85       368\n",
      "      house       0.78      0.64      0.70       347\n",
      "       left       0.59      0.60      0.59       484\n",
      "     marvin       0.77      0.78      0.78       361\n",
      "       nine       0.63      0.66      0.64       480\n",
      "         no       0.61      0.57      0.59       456\n",
      "        off       0.59      0.67      0.63       456\n",
      "         on       0.67      0.59      0.63       482\n",
      "        one       0.65      0.71      0.68       481\n",
      "      right       0.69      0.62      0.65       446\n",
      "      seven       0.76      0.72      0.74       485\n",
      "     sheila       0.89      0.72      0.80       329\n",
      "        six       0.62      0.81      0.71       490\n",
      "       stop       0.63      0.56      0.59       466\n",
      "      three       0.56      0.56      0.56       446\n",
      "       tree       0.71      0.42      0.53       362\n",
      "        two       0.48      0.70      0.57       478\n",
      "         up       0.57      0.74      0.64       474\n",
      "        wow       0.65      0.59      0.62       343\n",
      "        yes       0.67      0.64      0.65       461\n",
      "       zero       0.75      0.75      0.75       493\n",
      "\n",
      "avg / total       0.66      0.65      0.65     12945\n",
      "\n"
     ]
    }
   ],
   "source": [
    "predicted = clf.predict(test_X)\n",
    "print('accuracy validation set: ', np.mean(predicted == test_Y))\n",
    "\n",
    "# print scores\n",
    "print(metrics.classification_report(test_Y, predicted, target_names = labels))"
   ]
  },
  {
   "cell_type": "code",
   "execution_count": null,
   "metadata": {
    "collapsed": true
   },
   "outputs": [],
   "source": []
  },
  {
   "cell_type": "code",
   "execution_count": null,
   "metadata": {
    "collapsed": true
   },
   "outputs": [],
   "source": []
  }
 ],
 "metadata": {
  "kernelspec": {
   "display_name": "Python 3",
   "language": "python",
   "name": "python3"
  },
  "language_info": {
   "codemirror_mode": {
    "name": "ipython",
    "version": 3
   },
   "file_extension": ".py",
   "mimetype": "text/x-python",
   "name": "python",
   "nbconvert_exporter": "python",
   "pygments_lexer": "ipython3",
   "version": "3.5.2"
  }
 },
 "nbformat": 4,
 "nbformat_minor": 2
}
